{
 "cells": [
  {
   "cell_type": "markdown",
   "metadata": {},
   "source": [
    "# Projeto Semestral EFB803\n",
    "\n",
    "## Turma 2-Barril\n",
    "\n",
    "> Guilherme de Campos - RA: 20.00089-8\n",
    "\n",
    "> Leonardo Campos da Costa  -  RA: 20.00786-8\n",
    "\n",
    "> Luis Guilherme de Souza Munhoz - RA: 20.01937-8\n",
    "\n",
    "> Enrico Giannobile - RA: 19.00610-0"
   ]
  },
  {
   "cell_type": "markdown",
   "metadata": {},
   "source": [
    "## Importado dados dos .csv(s)\n",
    "- estes dados foram recolidos do forms"
   ]
  },
  {
   "cell_type": "code",
   "execution_count": 2,
   "metadata": {},
   "outputs": [],
   "source": [
    "\n",
    "instalar=False\n",
    "\n",
    "if(instalar):\n",
    "    %pip install nbformat \n",
    "    %pip install pandas\n",
    "    %pip install plotly\n",
    "    %pip install matplotlib\n",
    "    %pip install seaborn\n",
    "\n",
    "import pandas as pd\n",
    "import plotly.express as px\n",
    "import matplotlib.pyplot as plt\n",
    "import pandas as pd\n",
    "import numpy as np\n",
    "import math\n",
    "import seaborn as sns\n"
   ]
  },
  {
   "cell_type": "code",
   "execution_count": 3,
   "metadata": {},
   "outputs": [],
   "source": [
    "\n",
    "\n",
    "data=pd.read_csv('Serviços de assinaturas de jogos - Pesquisa .csv')\n",
    "gringoData=pd.read_csv('INGLES Serviços de assinaturas de jogos.csv')\n",
    "original=len(data)\n"
   ]
  },
  {
   "cell_type": "markdown",
   "metadata": {},
   "source": [
    "## Primeira analise dos dados\n",
    "- dados brasileiros\n",
    "- dados estrangeiros\n"
   ]
  },
  {
   "cell_type": "code",
   "execution_count": 4,
   "metadata": {},
   "outputs": [
    {
     "data": {
      "text/html": [
       "<div>\n",
       "<style scoped>\n",
       "    .dataframe tbody tr th:only-of-type {\n",
       "        vertical-align: middle;\n",
       "    }\n",
       "\n",
       "    .dataframe tbody tr th {\n",
       "        vertical-align: top;\n",
       "    }\n",
       "\n",
       "    .dataframe thead th {\n",
       "        text-align: right;\n",
       "    }\n",
       "</style>\n",
       "<table border=\"1\" class=\"dataframe\">\n",
       "  <thead>\n",
       "    <tr style=\"text-align: right;\">\n",
       "      <th></th>\n",
       "      <th>Carimbo de data/hora</th>\n",
       "      <th>Qual é sua idade?</th>\n",
       "      <th>Qual é seu gênero?</th>\n",
       "      <th>Qual é sua ocupação?</th>\n",
       "      <th>Qual é seu estado civil?</th>\n",
       "      <th>Qual é seu nível de inglês?</th>\n",
       "      <th>Têm filhos?</th>\n",
       "      <th>Você joga vídeogames?</th>\n",
       "      <th>Quanto(s) jogos você comprou nos últimos 3 meses?</th>\n",
       "      <th>Qual(is) seu(s) gêneros de jogo favorito?</th>\n",
       "      <th>Prefere jogos em qual mídia?</th>\n",
       "      <th>Qual(is) desse(s) critério(s) você considera importante ao comprar um jogo?</th>\n",
       "      <th>Assina algum serviço de assinatura de jogos?</th>\n",
       "      <th>Qual(is)?</th>\n",
       "      <th>Quanto pagaria em um serviço de assinatura de jogos por mês em (R$)?</th>\n",
       "    </tr>\n",
       "  </thead>\n",
       "  <tbody>\n",
       "    <tr>\n",
       "      <th>0</th>\n",
       "      <td>2022/05/12 4:26:30 PM GMT-3</td>\n",
       "      <td>20</td>\n",
       "      <td>Feminino</td>\n",
       "      <td>Estudante</td>\n",
       "      <td>Solteira(o)</td>\n",
       "      <td>Fluente</td>\n",
       "      <td>Não</td>\n",
       "      <td>Sim</td>\n",
       "      <td>0.0</td>\n",
       "      <td>Ação/Aventura</td>\n",
       "      <td>Mídia digital</td>\n",
       "      <td>Indiferente</td>\n",
       "      <td>Não</td>\n",
       "      <td>NaN</td>\n",
       "      <td>Não pagaria</td>\n",
       "    </tr>\n",
       "  </tbody>\n",
       "</table>\n",
       "</div>"
      ],
      "text/plain": [
       "          Carimbo de data/hora  Qual é sua idade? Qual é seu gênero?  \\\n",
       "0  2022/05/12 4:26:30 PM GMT-3                 20           Feminino   \n",
       "\n",
       "  Qual é sua ocupação? Qual é seu estado civil?  Qual é seu nível de inglês?  \\\n",
       "0            Estudante               Solteira(o)                     Fluente   \n",
       "\n",
       "  Têm filhos? Você joga vídeogames?  \\\n",
       "0         Não                   Sim   \n",
       "\n",
       "   Quanto(s) jogos você comprou nos últimos 3 meses?  \\\n",
       "0                                                0.0   \n",
       "\n",
       "  Qual(is) seu(s) gêneros de jogo favorito?  Prefere jogos em qual mídia?  \\\n",
       "0                              Ação/Aventura                Mídia digital   \n",
       "\n",
       "  Qual(is) desse(s) critério(s) você considera importante ao comprar um jogo?  \\\n",
       "0                                        Indiferente                            \n",
       "\n",
       "  Assina algum serviço de assinatura de jogos?  Qual(is)?  \\\n",
       "0                                           Não       NaN   \n",
       "\n",
       "  Quanto pagaria em um serviço de assinatura de jogos por mês em (R$)?  \n",
       "0                                        Não pagaria                    "
      ]
     },
     "execution_count": 4,
     "metadata": {},
     "output_type": "execute_result"
    }
   ],
   "source": [
    "data.head(1)"
   ]
  },
  {
   "cell_type": "code",
   "execution_count": 5,
   "metadata": {},
   "outputs": [
    {
     "data": {
      "text/html": [
       "<div>\n",
       "<style scoped>\n",
       "    .dataframe tbody tr th:only-of-type {\n",
       "        vertical-align: middle;\n",
       "    }\n",
       "\n",
       "    .dataframe tbody tr th {\n",
       "        vertical-align: top;\n",
       "    }\n",
       "\n",
       "    .dataframe thead th {\n",
       "        text-align: right;\n",
       "    }\n",
       "</style>\n",
       "<table border=\"1\" class=\"dataframe\">\n",
       "  <thead>\n",
       "    <tr style=\"text-align: right;\">\n",
       "      <th></th>\n",
       "      <th>Carimbo de data/hora</th>\n",
       "      <th>How old are you?</th>\n",
       "      <th>What's your gender?</th>\n",
       "      <th>What's your occupation?</th>\n",
       "      <th>What's your marital status?</th>\n",
       "      <th>What's your level of English?</th>\n",
       "      <th>Do you have kids?</th>\n",
       "      <th>Do you play videogames?</th>\n",
       "      <th>How many games did you bought in the last 3 mounts?</th>\n",
       "      <th>Which are your favorite game genre?</th>\n",
       "      <th>Which type of media do you prefer?</th>\n",
       "      <th>Which criteria do you consider before buying a game?</th>\n",
       "      <th>Do you pay for any game membership?</th>\n",
       "      <th>Which of the following?</th>\n",
       "      <th>How much would you pay for a monthly game membership USD($)?</th>\n",
       "    </tr>\n",
       "  </thead>\n",
       "  <tbody>\n",
       "    <tr>\n",
       "      <th>0</th>\n",
       "      <td>2022/05/15 4:06:23 PM GMT-3</td>\n",
       "      <td>19</td>\n",
       "      <td>Masculine</td>\n",
       "      <td>Student</td>\n",
       "      <td>Single</td>\n",
       "      <td>Fluent</td>\n",
       "      <td>No</td>\n",
       "      <td>Yes</td>\n",
       "      <td>4</td>\n",
       "      <td>Action/Adventure;Race;FPS;Fighting game;RPG</td>\n",
       "      <td>Digital media</td>\n",
       "      <td>Sale;Price;Quality</td>\n",
       "      <td>No</td>\n",
       "      <td>NaN</td>\n",
       "      <td>Wouldn't pay</td>\n",
       "    </tr>\n",
       "  </tbody>\n",
       "</table>\n",
       "</div>"
      ],
      "text/plain": [
       "          Carimbo de data/hora  How old are you? What's your gender?  \\\n",
       "0  2022/05/15 4:06:23 PM GMT-3                19           Masculine   \n",
       "\n",
       "  What's your occupation? What's your marital status?  \\\n",
       "0                 Student                      Single   \n",
       "\n",
       "  What's your level of English? Do you have kids? Do you play videogames?  \\\n",
       "0                        Fluent                No                     Yes   \n",
       "\n",
       "   How many games did you bought in the last 3 mounts?   \\\n",
       "0                                                  4      \n",
       "\n",
       "          Which are your favorite game genre?   \\\n",
       "0  Action/Adventure;Race;FPS;Fighting game;RPG   \n",
       "\n",
       "  Which type of media do you prefer?   \\\n",
       "0                       Digital media   \n",
       "\n",
       "  Which criteria do you consider before buying a game?  \\\n",
       "0                                 Sale;Price;Quality     \n",
       "\n",
       "  Do you pay for any game membership? Which of the following?  \\\n",
       "0                                  No                     NaN   \n",
       "\n",
       "  How much would you pay for a monthly game membership USD($)?  \n",
       "0                                       Wouldn't pay            "
      ]
     },
     "execution_count": 5,
     "metadata": {},
     "output_type": "execute_result"
    }
   ],
   "source": [
    "gringoData.head(1)"
   ]
  },
  {
   "cell_type": "markdown",
   "metadata": {},
   "source": [
    "### Renomeando os titulos"
   ]
  },
  {
   "cell_type": "code",
   "execution_count": 6,
   "metadata": {},
   "outputs": [
    {
     "name": "stdout",
     "output_type": "stream",
     "text": [
      "removido\n"
     ]
    }
   ],
   "source": [
    "if(data.columns[0]=='Carimbo de data/hora'):\n",
    "    data.drop(\"Carimbo de data/hora\", axis=1, inplace=True)\n",
    "    gringoData.drop(\"Carimbo de data/hora\", axis=1, inplace=True)\n",
    "    print(\"removido\")"
   ]
  },
  {
   "cell_type": "code",
   "execution_count": 7,
   "metadata": {},
   "outputs": [],
   "source": [
    "titulos=['idade', \n",
    "        'genero',\n",
    "       'ocupacao',\n",
    "        'estado',# estado civil\n",
    "       'ingles', # nivel de ingles\n",
    "       'filhos', # tem filhos\n",
    "       'joga',   #joga videogames?\n",
    "       'quant_jogos',#quantos jogos voce comprou?\n",
    "       'fav_jogos',#titulo favorito                                              (falta traduzir os titulos)\n",
    "       'midia',     #prefere qual midia de jogos (fisica/digita)\n",
    "       'importante_jogo',\n",
    "       'assina', \n",
    "       'quais',#o que assina \n",
    "       'paga' # quanto ira pagar\n",
    "       ]\n",
    "\n"
   ]
  },
  {
   "cell_type": "markdown",
   "metadata": {},
   "source": [
    "- O tempo e hora da resposta é irrelevante para a pequisa entao iremos removelos\n",
    "\n",
    ">- Como temos dados em duas linguas iremos traduzir as perguntas e dados para o PORTUGUES\n"
   ]
  },
  {
   "cell_type": "markdown",
   "metadata": {},
   "source": [
    "## Traduzindo dados"
   ]
  },
  {
   "cell_type": "code",
   "execution_count": 8,
   "metadata": {},
   "outputs": [
    {
     "name": "stdout",
     "output_type": "stream",
     "text": [
      "[ True  True  True  True  True  True  True  True  True  True  True  True\n",
      "  True  True]\n"
     ]
    },
    {
     "data": {
      "text/html": [
       "<div>\n",
       "<style scoped>\n",
       "    .dataframe tbody tr th:only-of-type {\n",
       "        vertical-align: middle;\n",
       "    }\n",
       "\n",
       "    .dataframe tbody tr th {\n",
       "        vertical-align: top;\n",
       "    }\n",
       "\n",
       "    .dataframe thead th {\n",
       "        text-align: right;\n",
       "    }\n",
       "</style>\n",
       "<table border=\"1\" class=\"dataframe\">\n",
       "  <thead>\n",
       "    <tr style=\"text-align: right;\">\n",
       "      <th></th>\n",
       "      <th>idade</th>\n",
       "      <th>genero</th>\n",
       "      <th>ocupacao</th>\n",
       "      <th>estado</th>\n",
       "      <th>ingles</th>\n",
       "      <th>filhos</th>\n",
       "      <th>joga</th>\n",
       "      <th>quant_jogos</th>\n",
       "      <th>fav_jogos</th>\n",
       "      <th>midia</th>\n",
       "      <th>importante_jogo</th>\n",
       "      <th>assina</th>\n",
       "      <th>quais</th>\n",
       "      <th>paga</th>\n",
       "    </tr>\n",
       "  </thead>\n",
       "  <tbody>\n",
       "    <tr>\n",
       "      <th>0</th>\n",
       "      <td>20</td>\n",
       "      <td>Feminino</td>\n",
       "      <td>Estudante</td>\n",
       "      <td>Solteira(o)</td>\n",
       "      <td>Fluente</td>\n",
       "      <td>Não</td>\n",
       "      <td>Sim</td>\n",
       "      <td>0.0</td>\n",
       "      <td>Ação/Aventura</td>\n",
       "      <td>Mídia digital</td>\n",
       "      <td>Indiferente</td>\n",
       "      <td>Não</td>\n",
       "      <td>NaN</td>\n",
       "      <td>Não pagaria</td>\n",
       "    </tr>\n",
       "  </tbody>\n",
       "</table>\n",
       "</div>"
      ],
      "text/plain": [
       "   idade    genero   ocupacao       estado   ingles filhos joga  quant_jogos  \\\n",
       "0     20  Feminino  Estudante  Solteira(o)  Fluente    Não  Sim          0.0   \n",
       "\n",
       "       fav_jogos          midia importante_jogo assina quais         paga  \n",
       "0  Ação/Aventura  Mídia digital     Indiferente    Não   NaN  Não pagaria  "
      ]
     },
     "execution_count": 8,
     "metadata": {},
     "output_type": "execute_result"
    }
   ],
   "source": [
    "data.columns=titulos\n",
    "gringoData.columns=titulos\n",
    "print(data.columns==gringoData.columns)\n",
    "data.head(1)\n",
    "#verifica se os titulos sao iguais"
   ]
  },
  {
   "cell_type": "markdown",
   "metadata": {},
   "source": [
    "### Analise de respostas para o Dicionário\n"
   ]
  },
  {
   "cell_type": "code",
   "execution_count": 9,
   "metadata": {},
   "outputs": [
    {
     "name": "stdout",
     "output_type": "stream",
     "text": [
      "['Feminino' 'Masculino' 'Outros' 'Prefiro não informar']\n",
      "['Estudante' 'Desempregado' 'Estudante;Desempregado'\n",
      " 'Estudante;Trabalhador' 'Estudante;ASTROFISICO' 'Autônomo/Freelacer'\n",
      " 'Trabalhador' 'Advogada' 'Aposentado' 'Empresario' 'Registrador Civil'\n",
      " 'Aposentado;Trabalhador' 'Empreendedor']\n",
      "['Solteira(o)' 'Casada(o)' 'Separada(o)' 'Viúva(o)']\n",
      "['Fluente' 'Intermediário' 'Avançado' 'Básico' 'Nenhum']\n",
      "['Não' 'Sim']\n",
      "['Sim' 'Não']\n",
      "[ 0.  1.  3. nan  4. 12.  9. 19.  2.  5. 11. 16.  6.]\n",
      "['Mídia digital' 'Mídia física' 'Indiferente' nan]\n",
      "['Indiferente' 'Desconto;Duração;Preço;Qualidade'\n",
      " 'Duração;Preço;Qualidade' 'Desconto;Preço;Qualidade' nan 'Qualidade'\n",
      " 'Desconto;Qualidade' 'Duração;Qualidade' 'Preço;Qualidade'\n",
      " 'Qualidade;Indiferente' 'Desconto;Duração;Preço;Qualidade;Indiferente'\n",
      " 'Desconto' 'Desconto;Duração;Qualidade' 'Desconto;Duração' 'Preço'\n",
      " 'Desconto;Preço']\n",
      "['Não' 'Sim' nan]\n",
      "[nan\n",
      " 'Game Pass;Prime gaming, epic games (não é pago, mas da jogos gratuitos)'\n",
      " 'Game Pass' 'Game Pass;Playstation Plus'\n",
      " 'EA Access/Origin Access;Game Pass'\n",
      " 'EA Access/Origin Access;Game Pass;Nintendo Switch Online;Ubisoft+'\n",
      " 'Playstation Plus' 'Twitch Prime' 'Assinatura WOW'\n",
      " 'Nintendo Switch Online' 'Game Pass;Nintendo Switch Online'\n",
      " 'Prime gaming' 'Game Pass;Android play '\n",
      " 'EA Access/Origin Access;Game Pass;Playstation Plus;Ubisoft+']\n",
      "['Não pagaria' '10 a 30' '30 a 50' nan '1 a 10' '50 a 70' '70 a 100']\n",
      "\n",
      "\n"
     ]
    }
   ],
   "source": [
    "i=1\n",
    "while i<8:\n",
    "    \n",
    "    print(data[titulos[i]].unique())\n",
    "    i=i+1\n",
    "\n",
    "i=9\n",
    "while i<len(gringoData.columns):\n",
    "    \n",
    "    print(data[titulos[i]].unique())\n",
    "    i=i+1\n",
    "\n",
    "print(\"\\n\")\n",
    "\n",
    "\n",
    "    \n"
   ]
  },
  {
   "cell_type": "code",
   "execution_count": 10,
   "metadata": {},
   "outputs": [
    {
     "name": "stdout",
     "output_type": "stream",
     "text": [
      "['Masculine' 'Feminine']\n",
      "['Student' 'Employed' 'Unemployed']\n",
      "['Single' 'Married']\n",
      "['Fluent' \"I'm a native English speaker\" 'Advanced']\n",
      "['No' 'Yes']\n",
      "['Yes']\n",
      "[4 3 1 5 2 0]\n",
      "['Digital media' 'Physical media' 'Indifferent']\n",
      "['Sale;Price;Quality' 'Price;Quality' 'Duration;Price;Quality' 'Quality'\n",
      " 'Duration' 'Indifferent']\n",
      "['No' 'Yes']\n",
      "[nan 'Playstation Plus'\n",
      " 'Game Pass;Nintendo Switch Online;Playstation Plus' 'Game Pass'\n",
      " 'EA Access/Origin Access;Game Pass']\n",
      "[\"Wouldn't pay\" '1 a 10' '10 a 30' '30 a 50']\n"
     ]
    }
   ],
   "source": [
    "i=1\n",
    "while i<8:\n",
    "    \n",
    "    print(gringoData[titulos[i]].unique())\n",
    "    i=i+1\n",
    "\n",
    "i=9\n",
    "while i<len(gringoData.columns):\n",
    "    \n",
    "    print(gringoData[titulos[i]].unique())\n",
    "    i=i+1"
   ]
  },
  {
   "cell_type": "markdown",
   "metadata": {},
   "source": [
    "### Dicionário"
   ]
  },
  {
   "cell_type": "markdown",
   "metadata": {},
   "source": [
    "#### Categoria geral - Dicionário\n"
   ]
  },
  {
   "cell_type": "code",
   "execution_count": 11,
   "metadata": {},
   "outputs": [
    {
     "data": {
      "text/html": [
       "<div>\n",
       "<style scoped>\n",
       "    .dataframe tbody tr th:only-of-type {\n",
       "        vertical-align: middle;\n",
       "    }\n",
       "\n",
       "    .dataframe tbody tr th {\n",
       "        vertical-align: top;\n",
       "    }\n",
       "\n",
       "    .dataframe thead th {\n",
       "        text-align: right;\n",
       "    }\n",
       "</style>\n",
       "<table border=\"1\" class=\"dataframe\">\n",
       "  <thead>\n",
       "    <tr style=\"text-align: right;\">\n",
       "      <th></th>\n",
       "      <th>idade</th>\n",
       "      <th>genero</th>\n",
       "      <th>ocupacao</th>\n",
       "      <th>estado</th>\n",
       "      <th>ingles</th>\n",
       "      <th>filhos</th>\n",
       "      <th>joga</th>\n",
       "      <th>quant_jogos</th>\n",
       "      <th>fav_jogos</th>\n",
       "      <th>midia</th>\n",
       "      <th>importante_jogo</th>\n",
       "      <th>assina</th>\n",
       "      <th>quais</th>\n",
       "      <th>paga</th>\n",
       "    </tr>\n",
       "  </thead>\n",
       "  <tbody>\n",
       "    <tr>\n",
       "      <th>0</th>\n",
       "      <td>19</td>\n",
       "      <td>Masculino</td>\n",
       "      <td>Estudante</td>\n",
       "      <td>Solteira(o)</td>\n",
       "      <td>Fluente</td>\n",
       "      <td>Não</td>\n",
       "      <td>Sim</td>\n",
       "      <td>4</td>\n",
       "      <td>Action/Adventure;Race;FPS;Fighting game;RPG</td>\n",
       "      <td>Mídia digital</td>\n",
       "      <td>Sale;Price;Quality</td>\n",
       "      <td>Não</td>\n",
       "      <td>NaN</td>\n",
       "      <td>Não pagaria</td>\n",
       "    </tr>\n",
       "    <tr>\n",
       "      <th>1</th>\n",
       "      <td>17</td>\n",
       "      <td>Masculino</td>\n",
       "      <td>Estudante</td>\n",
       "      <td>Solteira(o)</td>\n",
       "      <td>Tenho ingles nativo</td>\n",
       "      <td>Não</td>\n",
       "      <td>Sim</td>\n",
       "      <td>3</td>\n",
       "      <td>Strategy;RPG</td>\n",
       "      <td>Mídia digital</td>\n",
       "      <td>Price;Quality</td>\n",
       "      <td>Não</td>\n",
       "      <td>NaN</td>\n",
       "      <td>Não pagaria</td>\n",
       "    </tr>\n",
       "    <tr>\n",
       "      <th>2</th>\n",
       "      <td>18</td>\n",
       "      <td>Masculino</td>\n",
       "      <td>Estudante</td>\n",
       "      <td>Solteira(o)</td>\n",
       "      <td>Tenho ingles nativo</td>\n",
       "      <td>Não</td>\n",
       "      <td>Sim</td>\n",
       "      <td>1</td>\n",
       "      <td>Action/Adventure;Fighting game</td>\n",
       "      <td>Mídia física</td>\n",
       "      <td>Duration;Price;Quality</td>\n",
       "      <td>Sim</td>\n",
       "      <td>Playstation Plus</td>\n",
       "      <td>1 a 10 DOLAR</td>\n",
       "    </tr>\n",
       "  </tbody>\n",
       "</table>\n",
       "</div>"
      ],
      "text/plain": [
       "   idade     genero   ocupacao       estado               ingles filhos joga  \\\n",
       "0     19  Masculino  Estudante  Solteira(o)              Fluente    Não  Sim   \n",
       "1     17  Masculino  Estudante  Solteira(o)  Tenho ingles nativo    Não  Sim   \n",
       "2     18  Masculino  Estudante  Solteira(o)  Tenho ingles nativo    Não  Sim   \n",
       "\n",
       "   quant_jogos                                    fav_jogos          midia  \\\n",
       "0            4  Action/Adventure;Race;FPS;Fighting game;RPG  Mídia digital   \n",
       "1            3                                 Strategy;RPG  Mídia digital   \n",
       "2            1               Action/Adventure;Fighting game   Mídia física   \n",
       "\n",
       "          importante_jogo assina             quais          paga  \n",
       "0      Sale;Price;Quality    Não               NaN   Não pagaria  \n",
       "1           Price;Quality    Não               NaN   Não pagaria  \n",
       "2  Duration;Price;Quality    Sim  Playstation Plus  1 a 10 DOLAR  "
      ]
     },
     "execution_count": 11,
     "metadata": {},
     "output_type": "execute_result"
    }
   ],
   "source": [
    "tradutor={\n",
    "'Masculine':'Masculino',\n",
    "'Feminine' : 'Feminino',\n",
    "'Other'    :  'Outro',\n",
    "'I prefer to not inform'         :  'Prefiro não informar',\n",
    "'Student'   :   'Estudante',\n",
    "'Unemployed':   'Desempregado',\n",
    "'Employed':   'Trabalhador',\n",
    "'Single'    :  'Solteira(o)',\n",
    "'Maried'    :   'Casada(o)',\n",
    "'Fluent'    : \"Fluente\",\n",
    "\"I'm a native English speaker\"  : 'Tenho ingles nativo',\n",
    "'Advanced'  :   'Avançado',\n",
    "'No'        :   'Não',\n",
    "'Yes'       :   'Sim',\n",
    "'Digital media' :   'Mídia digital',\n",
    "'Physical media':   'Mídia física',\n",
    "'Indifferent'   :   'Indiferente',\n",
    "\"Wouldn't pay\"  :   'Não pagaria',\n",
    "'1 a 10'    :   '1 a 10 DOLAR',\n",
    "'10 a 30'    :   '10 a 30 DOLAR',\n",
    "'30 a 50'    :   '30 a 50 DOLAR',\n",
    "'50 a 70'    :   '50 a 70 DOLAR',\n",
    "'70 a 100'    :   '70 a 100 DOLAR',\n",
    "\n",
    "}\n",
    "gringoData=gringoData.replace(tradutor)\n",
    "gringoData.head(3)"
   ]
  },
  {
   "cell_type": "markdown",
   "metadata": {},
   "source": [
    "#### Categoria jogos - Dicionário"
   ]
  },
  {
   "cell_type": "code",
   "execution_count": 12,
   "metadata": {},
   "outputs": [
    {
     "data": {
      "text/plain": [
       "0                    Ação/Aventura;Corrida;FPS;Luta;RPG\n",
       "1                                        Estrategia;RPG\n",
       "2                                    Ação/Aventura;Luta\n",
       "3       Ação/Aventura;Battle Royale;Esporte;Luta;Terror\n",
       "4                                              FPS;Luta\n",
       "5                              Ação/Aventura;Estrategia\n",
       "6     Ação/Aventura;Estrategia;FPS;RPG;Simulação;Ter...\n",
       "7                   Ação/Aventura;MOBA;Simulação;Terror\n",
       "8                                                   FPS\n",
       "9     Ação/Aventura;Battle Royale;Corrida;Estrategia...\n",
       "10                           Ação/Aventura;FPS;MOBA;RPG\n",
       "11                         Ação/Aventura;Estrategia;FPS\n",
       "12                                                  RPG\n",
       "Name: fav_jogos, dtype: object"
      ]
     },
     "execution_count": 12,
     "metadata": {},
     "output_type": "execute_result"
    }
   ],
   "source": [
    "def replace_all(text, dic):\n",
    "    for i, j in dic.items():\n",
    "        text = text.replace(i, j)\n",
    "    return text\n",
    "\n",
    "\n",
    "jogos={\n",
    "    'Action/Adventure'  : 'Ação/Aventura',\n",
    "    'Race'              : 'Corrida',\n",
    "    'Sport'             : 'Esporte',\n",
    "    'Strategy'          : 'Estrategia',\n",
    "    'Fighting game'     : 'Luta',\n",
    "    'Simulation'        : 'Simulação',\n",
    "    'Horror'            :  'Terror'\n",
    "\n",
    "}\n",
    "\n",
    "\n",
    "i=0\n",
    "\n",
    "while i<len(gringoData):\n",
    "\n",
    "    txt=gringoData['fav_jogos'][i]\n",
    "    x = replace_all(txt, jogos)\n",
    "    gringoData['fav_jogos']=gringoData['fav_jogos'].replace(gringoData['fav_jogos'][i],x)\n",
    "    i=i+1\n",
    "\n",
    "gringoData['fav_jogos']\n",
    "\n"
   ]
  },
  {
   "cell_type": "code",
   "execution_count": 13,
   "metadata": {},
   "outputs": [
    {
     "data": {
      "text/plain": [
       "0     Desconto;Preço;Qualidade\n",
       "1              Preço;Qualidade\n",
       "2      Duração;Preço;Qualidade\n",
       "3                    Qualidade\n",
       "4                    Qualidade\n",
       "5                      Duração\n",
       "6     Desconto;Preço;Qualidade\n",
       "7              Preço;Qualidade\n",
       "8                    Qualidade\n",
       "9              Preço;Qualidade\n",
       "10                 Indiferente\n",
       "11             Preço;Qualidade\n",
       "12                   Qualidade\n",
       "Name: importante_jogo, dtype: object"
      ]
     },
     "execution_count": 13,
     "metadata": {},
     "output_type": "execute_result"
    }
   ],
   "source": [
    "criterios={\n",
    "    'Sale'          :   'Desconto',\n",
    "    'Duration'      :   'Duração',\n",
    "    'Price'         :   'Preço',\n",
    "    'Quality'       :   'Qualidade',\n",
    "    'Indifferent'   :   'Indiferente',\n",
    "\n",
    "}\n",
    "\n",
    "\n",
    "i=0\n",
    "\n",
    "while i<len(gringoData):\n",
    "\n",
    "    txt=gringoData['importante_jogo'][i]\n",
    "    x = replace_all(txt, criterios)\n",
    "    gringoData['importante_jogo']=gringoData['importante_jogo'].replace(gringoData['importante_jogo'][i],x)\n",
    "    i=i+1\n",
    "\n",
    "gringoData['importante_jogo']"
   ]
  },
  {
   "cell_type": "markdown",
   "metadata": {},
   "source": [
    "## Editando dados\n",
    "- Sim = 0\n",
    "- Nao = 1\n",
    "- NaN = -1\n",
    "- adicionar um count"
   ]
  },
  {
   "cell_type": "code",
   "execution_count": 14,
   "metadata": {},
   "outputs": [
    {
     "name": "stderr",
     "output_type": "stream",
     "text": [
      "C:\\Users\\FPS\\AppData\\Local\\Temp\\ipykernel_1308\\2602603311.py:2: FutureWarning: The frame.append method is deprecated and will be removed from pandas in a future version. Use pandas.concat instead.\n",
      "  data=data.append(gringoData, ignore_index=True)#lembra de excluir o gringoData\n"
     ]
    }
   ],
   "source": [
    "if(len(data)==original):\n",
    "    data=data.append(gringoData, ignore_index=True)#lembra de excluir o gringoData \n",
    "\n",
    "data['quais'] = data['quais'].replace(np.nan, -1)\n",
    "i=0\n",
    "while i<len(titulos):\n",
    "    data[titulos[i]] = data[titulos[i]].replace(np.nan, -1)#arrumar(n_joga aparece)\n",
    "    data[titulos[i]] = data[titulos[i]].replace('Não', 0)\n",
    "    data[titulos[i]] = data[titulos[i]].replace('Sim', 1)\n",
    "    i+=1"
   ]
  },
  {
   "cell_type": "markdown",
   "metadata": {},
   "source": [
    "#### Adicionando um count para criacao de graficos"
   ]
  },
  {
   "cell_type": "code",
   "execution_count": 15,
   "metadata": {},
   "outputs": [
    {
     "data": {
      "text/html": [
       "<div>\n",
       "<style scoped>\n",
       "    .dataframe tbody tr th:only-of-type {\n",
       "        vertical-align: middle;\n",
       "    }\n",
       "\n",
       "    .dataframe tbody tr th {\n",
       "        vertical-align: top;\n",
       "    }\n",
       "\n",
       "    .dataframe thead th {\n",
       "        text-align: right;\n",
       "    }\n",
       "</style>\n",
       "<table border=\"1\" class=\"dataframe\">\n",
       "  <thead>\n",
       "    <tr style=\"text-align: right;\">\n",
       "      <th></th>\n",
       "      <th>idade</th>\n",
       "      <th>genero</th>\n",
       "      <th>ocupacao</th>\n",
       "      <th>estado</th>\n",
       "      <th>ingles</th>\n",
       "      <th>filhos</th>\n",
       "      <th>joga</th>\n",
       "      <th>quant_jogos</th>\n",
       "      <th>fav_jogos</th>\n",
       "      <th>midia</th>\n",
       "      <th>importante_jogo</th>\n",
       "      <th>assina</th>\n",
       "      <th>quais</th>\n",
       "      <th>paga</th>\n",
       "      <th>count</th>\n",
       "    </tr>\n",
       "  </thead>\n",
       "  <tbody>\n",
       "    <tr>\n",
       "      <th>164</th>\n",
       "      <td>18</td>\n",
       "      <td>Masculino</td>\n",
       "      <td>Desempregado</td>\n",
       "      <td>Solteira(o)</td>\n",
       "      <td>Tenho ingles nativo</td>\n",
       "      <td>0</td>\n",
       "      <td>1</td>\n",
       "      <td>4.0</td>\n",
       "      <td>Ação/Aventura;FPS;MOBA;RPG</td>\n",
       "      <td>Indiferente</td>\n",
       "      <td>Indiferente</td>\n",
       "      <td>1</td>\n",
       "      <td>EA Access/Origin Access;Game Pass</td>\n",
       "      <td>30 a 50 DOLAR</td>\n",
       "      <td>1.0</td>\n",
       "    </tr>\n",
       "    <tr>\n",
       "      <th>165</th>\n",
       "      <td>14</td>\n",
       "      <td>Masculino</td>\n",
       "      <td>Estudante</td>\n",
       "      <td>Solteira(o)</td>\n",
       "      <td>Tenho ingles nativo</td>\n",
       "      <td>0</td>\n",
       "      <td>1</td>\n",
       "      <td>5.0</td>\n",
       "      <td>Ação/Aventura;Estrategia;FPS</td>\n",
       "      <td>Indiferente</td>\n",
       "      <td>Preço;Qualidade</td>\n",
       "      <td>1</td>\n",
       "      <td>Game Pass</td>\n",
       "      <td>1 a 10 DOLAR</td>\n",
       "      <td>1.0</td>\n",
       "    </tr>\n",
       "    <tr>\n",
       "      <th>166</th>\n",
       "      <td>19</td>\n",
       "      <td>Masculino</td>\n",
       "      <td>Trabalhador</td>\n",
       "      <td>Solteira(o)</td>\n",
       "      <td>Tenho ingles nativo</td>\n",
       "      <td>0</td>\n",
       "      <td>1</td>\n",
       "      <td>0.0</td>\n",
       "      <td>RPG</td>\n",
       "      <td>Mídia digital</td>\n",
       "      <td>Qualidade</td>\n",
       "      <td>1</td>\n",
       "      <td>Game Pass</td>\n",
       "      <td>10 a 30 DOLAR</td>\n",
       "      <td>1.0</td>\n",
       "    </tr>\n",
       "  </tbody>\n",
       "</table>\n",
       "</div>"
      ],
      "text/plain": [
       "     idade     genero      ocupacao       estado               ingles  filhos  \\\n",
       "164     18  Masculino  Desempregado  Solteira(o)  Tenho ingles nativo       0   \n",
       "165     14  Masculino     Estudante  Solteira(o)  Tenho ingles nativo       0   \n",
       "166     19  Masculino   Trabalhador  Solteira(o)  Tenho ingles nativo       0   \n",
       "\n",
       "     joga  quant_jogos                     fav_jogos          midia  \\\n",
       "164     1          4.0    Ação/Aventura;FPS;MOBA;RPG    Indiferente   \n",
       "165     1          5.0  Ação/Aventura;Estrategia;FPS    Indiferente   \n",
       "166     1          0.0                           RPG  Mídia digital   \n",
       "\n",
       "     importante_jogo  assina                              quais  \\\n",
       "164      Indiferente       1  EA Access/Origin Access;Game Pass   \n",
       "165  Preço;Qualidade       1                          Game Pass   \n",
       "166        Qualidade       1                          Game Pass   \n",
       "\n",
       "              paga  count  \n",
       "164  30 a 50 DOLAR    1.0  \n",
       "165   1 a 10 DOLAR    1.0  \n",
       "166  10 a 30 DOLAR    1.0  "
      ]
     },
     "execution_count": 15,
     "metadata": {},
     "output_type": "execute_result"
    }
   ],
   "source": [
    "count=np.ones(len(data))\n",
    "data['count']=count\n",
    "data.tail(3)"
   ]
  },
  {
   "cell_type": "markdown",
   "metadata": {},
   "source": [
    "## Funções de gráficos"
   ]
  },
  {
   "cell_type": "code",
   "execution_count": 16,
   "metadata": {},
   "outputs": [],
   "source": [
    "def plot_bar(data,variable,txt):\n",
    "    varValue=data[variable].value_counts()\n",
    "    \n",
    "    plt.figure(figsize = (20,5))\n",
    "    plt.bar(varValue.index, varValue,color=\"#A984EA\",ec=\"#7332D6\")\n",
    "    plt.xticks(varValue.index, varValue.index.values)#o que isso siguinifica?? socorro\n",
    "    plt.ylabel(\"Frequency\")\n",
    "\n",
    "    plt.title(variable+\" \"+txt)\n",
    "    plt.show()\n"
   ]
  },
  {
   "cell_type": "code",
   "execution_count": 17,
   "metadata": {},
   "outputs": [],
   "source": [
    "def plot_hist(data,variable,txt):\n",
    "    varValue=data[variable].value_counts()\n",
    "\n",
    "    plt.figure(figsize = (9,5))\n",
    "    plt.hist(data[variable],color=\"#0ABAB5\",bins=20)\n",
    "    plt.ylabel(\"Frequency\")\n",
    "    plt.xlabel(variable)\n",
    "    plt.title(variable+' distribution'+\" \"+txt)\n",
    "    plt.show()"
   ]
  },
  {
   "cell_type": "markdown",
   "metadata": {},
   "source": [
    "## Categorias gerais"
   ]
  },
  {
   "cell_type": "code",
   "execution_count": 18,
   "metadata": {},
   "outputs": [],
   "source": [
    "categorias_todas=['idade','genero',\t'ocupacao',\t'estado','ingles','filhos','joga','quant_jogos','fav_jogos','midia','importante_jogo','assina','quais','paga','count']\n",
    "categorias0=['idade']\n",
    "categorias1=['genero',\t'ocupacao',\t'estado'\t,'ingles'\t,'filhos'\t,'joga'\t,'quant_jogos'\t,\t'assina']\n",
    "categorias2=['genero',\t'ocupacao',\t'estado'\t,'ingles'\t,'filhos']"
   ]
  },
  {
   "cell_type": "markdown",
   "metadata": {},
   "source": [
    "## Ajuste do data final"
   ]
  },
  {
   "cell_type": "markdown",
   "metadata": {},
   "source": [
    "### Renomeando profissoes"
   ]
  },
  {
   "cell_type": "code",
   "execution_count": 19,
   "metadata": {},
   "outputs": [],
   "source": [
    "\n",
    "profInvalida={\n",
    "\n",
    "'Autônomo/Freelacer' : 'Trabalhador',\n",
    "'Advogada'          : 'Trabalhador',\n",
    "'Empresario'    : 'Trabalhador',\n",
    "\"Registrador Civil\" : 'Trabalhador',\n",
    "'Empreendedor': 'Trabalhador',\n",
    "'Estudante;ASTROFISICO': 'Trabalhador'\n",
    "}\n",
    "\n",
    "data=data.replace(profInvalida)\n"
   ]
  },
  {
   "cell_type": "markdown",
   "metadata": {},
   "source": [
    "### Plotando gráficos"
   ]
  },
  {
   "cell_type": "code",
   "execution_count": 20,
   "metadata": {},
   "outputs": [
    {
     "data": {
      "image/png": "[encoded data removed]",
      "text/plain": [
       "<Figure size 648x360 with 1 Axes>"
      ]
     },
     "metadata": {
      "needs_background": "light"
     },
     "output_type": "display_data"
    }
   ],
   "source": [
    "for c in categorias0:\n",
    "    plot_hist(data,c,\"\")"
   ]
  },
  {
   "cell_type": "code",
   "execution_count": 21,
   "metadata": {},
   "outputs": [
    {
     "data": {
      "image/png": "[encoded data removed]",
      "text/plain": [
       "<Figure size 1440x360 with 1 Axes>"
      ]
     },
     "metadata": {
      "needs_background": "light"
     },
     "output_type": "display_data"
    },
    {
     "data": {
      "image/png": "[encoded data removed]",
      "text/plain": [
       "<Figure size 1440x360 with 1 Axes>"
      ]
     },
     "metadata": {
      "needs_background": "light"
     },
     "output_type": "display_data"
    },
    {
     "data": {
      "image/png": "[encoded data removed]",
      "text/plain": [
       "<Figure size 1440x360 with 1 Axes>"
      ]
     },
     "metadata": {
      "needs_background": "light"
     },
     "output_type": "display_data"
    },
    {
     "data": {
      "image/png": "[encoded data removed]",
      "text/plain": [
       "<Figure size 1440x360 with 1 Axes>"
      ]
     },
     "metadata": {
      "needs_background": "light"
     },
     "output_type": "display_data"
    },
    {
     "data": {
      "image/png": "[encoded data removed]",
      "text/plain": [
       "<Figure size 1440x360 with 1 Axes>"
      ]
     },
     "metadata": {
      "needs_background": "light"
     },
     "output_type": "display_data"
    },
    {
     "data": {
      "image/png": "[encoded data removed]",
      "text/plain": [
       "<Figure size 1440x360 with 1 Axes>"
      ]
     },
     "metadata": {
      "needs_background": "light"
     },
     "output_type": "display_data"
    },
    {
     "data": {
      "image/png": "[encoded data removed]",
      "text/plain": [
       "<Figure size 1440x360 with 1 Axes>"
      ]
     },
     "metadata": {
      "needs_background": "light"
     },
     "output_type": "display_data"
    },
    {
     "data": {
      "image/png": "[encoded data removed]",
      "text/plain": [
       "<Figure size 1440x360 with 1 Axes>"
      ]
     },
     "metadata": {
      "needs_background": "light"
     },
     "output_type": "display_data"
    }
   ],
   "source": [
    "for c in categorias1:\n",
    "    plot_bar(data,c,\"\")"
   ]
  },
  {
   "cell_type": "code",
   "execution_count": 22,
   "metadata": {},
   "outputs": [],
   "source": [
    "idade=px.histogram(data, x='idade',y=\"count\")\n",
    "joga=px.histogram(data, x=\"idade\", color=\"joga\")\n",
    "sexo=px.pie(data, values='count', names='genero')"
   ]
  },
  {
   "cell_type": "markdown",
   "metadata": {},
   "source": [
    "> Segundo o grafico pessoas mais velhas nao jogam muito"
   ]
  },
  {
   "cell_type": "code",
   "execution_count": 23,
   "metadata": {},
   "outputs": [
    {
     "data": {
      "application/vnd.plotly.v1+json": {
       "config": {
        "plotlyServerURL": "https://plot.ly"
       },
       "data": [
        {
         "domain": {
          "x": [
           0,
           1
          ],
          "y": [
           0,
           1
          ]
         },
         "hovertemplate": "genero=%{label}<br>count=%{value}<extra></extra>",
         "labels": [
          "Feminino",
          "Masculino",
          "Feminino",
          "Masculino",
          "Masculino",
          "Feminino",
          "Masculino",
          "Masculino",
          "Masculino",
          "Masculino",
          "Masculino",
          "Masculino",
          "Masculino",
          "Masculino",
          "Masculino",
          "Masculino",
          "Masculino",
          "Outros",
          "Masculino",
          "Feminino",
          "Masculino",
          "Masculino",
          "Masculino",
          "Masculino",
          "Prefiro não informar",
          "Masculino",
          "Outros",
          "Masculino",
          "Masculino",
          "Masculino",
          "Masculino",
          "Masculino",
          "Masculino",
          "Masculino",
          "Masculino",
          "Masculino",
          "Masculino",
          "Masculino",
          "Masculino",
          "Masculino",
          "Masculino",
          "Masculino",
          "Masculino",
          "Masculino",
          "Masculino",
          "Masculino",
          "Feminino",
          "Masculino",
          "Masculino",
          "Masculino",
          "Masculino",
          "Masculino",
          "Masculino",
          "Masculino",
          "Feminino",
          "Masculino",
          "Feminino",
          "Masculino",
          "Feminino",
          "Masculino",
          "Masculino",
          "Feminino",
          "Feminino",
          "Masculino",
          "Masculino",
          "Masculino",
          "Feminino",
          "Feminino",
          "Feminino",
          "Feminino",
          "Masculino",
          "Masculino",
          "Masculino",
          "Feminino",
          "Masculino",
          "Outros",
          "Masculino",
          "Masculino",
          "Feminino",
          "Feminino",
          "Masculino",
          "Masculino",
          "Feminino",
          "Masculino",
          "Masculino",
          "Masculino",
          "Masculino",
          "Masculino",
          "Masculino",
          "Feminino",
          "Feminino",
          "Feminino",
          "Masculino",
          "Masculino",
          "Masculino",
          "Feminino",
          "Feminino",
          "Masculino",
          "Masculino",
          "Masculino",
          "Masculino",
          "Masculino",
          "Masculino",
          "Feminino",
          "Masculino",
          "Feminino",
          "Masculino",
          "Feminino",
          "Masculino",
          "Feminino",
          "Masculino",
          "Masculino",
          "Feminino",
          "Feminino",
          "Feminino",
          "Feminino",
          "Masculino",
          "Masculino",
          "Feminino",
          "Feminino",
          "Feminino",
          "Feminino",
          "Masculino",
          "Feminino",
          "Masculino",
          "Feminino",
          "Outros",
          "Masculino",
          "Feminino",
          "Masculino",
          "Feminino",
          "Feminino",
          "Masculino",
          "Masculino",
          "Feminino",
          "Feminino",
          "Feminino",
          "Feminino",
          "Masculino",
          "Masculino",
          "Feminino",
          "Masculino",
          "Feminino",
          "Masculino",
          "Feminino",
          "Feminino",
          "Feminino",
          "Feminino",
          "Feminino",
          "Masculino",
          "Feminino",
          "Feminino",
          "Masculino",
          "Feminino",
          "Masculino",
          "Masculino",
          "Masculino",
          "Masculino",
          "Masculino",
          "Masculino",
          "Feminino",
          "Feminino",
          "Masculino",
          "Masculino",
          "Masculino",
          "Masculino",
          "Masculino"
         ],
         "legendgroup": "",
         "name": "",
         "showlegend": true,
         "type": "pie",
         "values": [
          1,
          1,
          1,
          1,
          1,
          1,
          1,
          1,
          1,
          1,
          1,
          1,
          1,
          1,
          1,
          1,
          1,
          1,
          1,
          1,
          1,
          1,
          1,
          1,
          1,
          1,
          1,
          1,
          1,
          1,
          1,
          1,
          1,
          1,
          1,
          1,
          1,
          1,
          1,
          1,
          1,
          1,
          1,
          1,
          1,
          1,
          1,
          1,
          1,
          1,
          1,
          1,
          1,
          1,
          1,
          1,
          1,
          1,
          1,
          1,
          1,
          1,
          1,
          1,
          1,
          1,
          1,
          1,
          1,
          1,
          1,
          1,
          1,
          1,
          1,
          1,
          1,
          1,
          1,
          1,
          1,
          1,
          1,
          1,
          1,
          1,
          1,
          1,
          1,
          1,
          1,
          1,
          1,
          1,
          1,
          1,
          1,
          1,
          1,
          1,
          1,
          1,
          1,
          1,
          1,
          1,
          1,
          1,
          1,
          1,
          1,
          1,
          1,
          1,
          1,
          1,
          1,
          1,
          1,
          1,
          1,
          1,
          1,
          1,
          1,
          1,
          1,
          1,
          1,
          1,
          1,
          1,
          1,
          1,
          1,
          1,
          1,
          1,
          1,
          1,
          1,
          1,
          1,
          1,
          1,
          1,
          1,
          1,
          1,
          1,
          1,
          1,
          1,
          1,
          1,
          1,
          1,
          1,
          1,
          1,
          1,
          1,
          1,
          1,
          1,
          1,
          1
         ]
        }
       ],
       "layout": {
        "legend": {
         "tracegroupgap": 0
        },
        "margin": {
         "t": 60
        },
        "template": {
         "data": {
          "bar": [
           {
            "error_x": {
             "color": "#2a3f5f"
            },
            "error_y": {
             "color": "#2a3f5f"
            },
            "marker": {
             "line": {
              "color": "#E5ECF6",
              "width": 0.5
             },
             "pattern": {
              "fillmode": "overlay",
              "size": 10,
              "solidity": 0.2
             }
            },
            "type": "bar"
           }
          ],
          "barpolar": [
           {
            "marker": {
             "line": {
              "color": "#E5ECF6",
              "width": 0.5
             },
             "pattern": {
              "fillmode": "overlay",
              "size": 10,
              "solidity": 0.2
             }
            },
            "type": "barpolar"
           }
          ],
          "carpet": [
           {
            "aaxis": {
             "endlinecolor": "#2a3f5f",
             "gridcolor": "white",
             "linecolor": "white",
             "minorgridcolor": "white",
             "startlinecolor": "#2a3f5f"
            },
            "baxis": {
             "endlinecolor": "#2a3f5f",
             "gridcolor": "white",
             "linecolor": "white",
             "minorgridcolor": "white",
             "startlinecolor": "#2a3f5f"
            },
            "type": "carpet"
           }
          ],
          "choropleth": [
           {
            "colorbar": {
             "outlinewidth": 0,
             "ticks": ""
            },
            "type": "choropleth"
           }
          ],
          "contour": [
           {
            "colorbar": {
             "outlinewidth": 0,
             "ticks": ""
            },
            "colorscale": [
             [
              0,
              "#0d0887"
             ],
             [
              0.1111111111111111,
              "#46039f"
             ],
             [
              0.2222222222222222,
              "#7201a8"
             ],
             [
              0.3333333333333333,
              "#9c179e"
             ],
             [
              0.4444444444444444,
              "#bd3786"
             ],
             [
              0.5555555555555556,
              "#d8576b"
             ],
             [
              0.6666666666666666,
              "#ed7953"
             ],
             [
              0.7777777777777778,
              "#fb9f3a"
             ],
             [
              0.8888888888888888,
              "#fdca26"
             ],
             [
              1,
              "#f0f921"
             ]
            ],
            "type": "contour"
           }
          ],
          "contourcarpet": [
           {
            "colorbar": {
             "outlinewidth": 0,
             "ticks": ""
            },
            "type": "contourcarpet"
           }
          ],
          "heatmap": [
           {
            "colorbar": {
             "outlinewidth": 0,
             "ticks": ""
            },
            "colorscale": [
             [
              0,
              "#0d0887"
             ],
             [
              0.1111111111111111,
              "#46039f"
             ],
             [
              0.2222222222222222,
              "#7201a8"
             ],
             [
              0.3333333333333333,
              "#9c179e"
             ],
             [
              0.4444444444444444,
              "#bd3786"
             ],
             [
              0.5555555555555556,
              "#d8576b"
             ],
             [
              0.6666666666666666,
              "#ed7953"
             ],
             [
              0.7777777777777778,
              "#fb9f3a"
             ],
             [
              0.8888888888888888,
              "#fdca26"
             ],
             [
              1,
              "#f0f921"
             ]
            ],
            "type": "heatmap"
           }
          ],
          "heatmapgl": [
           {
            "colorbar": {
             "outlinewidth": 0,
             "ticks": ""
            },
            "colorscale": [
             [
              0,
              "#0d0887"
             ],
             [
              0.1111111111111111,
              "#46039f"
             ],
             [
              0.2222222222222222,
              "#7201a8"
             ],
             [
              0.3333333333333333,
              "#9c179e"
             ],
             [
              0.4444444444444444,
              "#bd3786"
             ],
             [
              0.5555555555555556,
              "#d8576b"
             ],
             [
              0.6666666666666666,
              "#ed7953"
             ],
             [
              0.7777777777777778,
              "#fb9f3a"
             ],
             [
              0.8888888888888888,
              "#fdca26"
             ],
             [
              1,
              "#f0f921"
             ]
            ],
            "type": "heatmapgl"
           }
          ],
          "histogram": [
           {
            "marker": {
             "pattern": {
              "fillmode": "overlay",
              "size": 10,
              "solidity": 0.2
             }
            },
            "type": "histogram"
           }
          ],
          "histogram2d": [
           {
            "colorbar": {
             "outlinewidth": 0,
             "ticks": ""
            },
            "colorscale": [
             [
              0,
              "#0d0887"
             ],
             [
              0.1111111111111111,
              "#46039f"
             ],
             [
              0.2222222222222222,
              "#7201a8"
             ],
             [
              0.3333333333333333,
              "#9c179e"
             ],
             [
              0.4444444444444444,
              "#bd3786"
             ],
             [
              0.5555555555555556,
              "#d8576b"
             ],
             [
              0.6666666666666666,
              "#ed7953"
             ],
             [
              0.7777777777777778,
              "#fb9f3a"
             ],
             [
              0.8888888888888888,
              "#fdca26"
             ],
             [
              1,
              "#f0f921"
             ]
            ],
            "type": "histogram2d"
           }
          ],
          "histogram2dcontour": [
           {
            "colorbar": {
             "outlinewidth": 0,
             "ticks": ""
            },
            "colorscale": [
             [
              0,
              "#0d0887"
             ],
             [
              0.1111111111111111,
              "#46039f"
             ],
             [
              0.2222222222222222,
              "#7201a8"
             ],
             [
              0.3333333333333333,
              "#9c179e"
             ],
             [
              0.4444444444444444,
              "#bd3786"
             ],
             [
              0.5555555555555556,
              "#d8576b"
             ],
             [
              0.6666666666666666,
              "#ed7953"
             ],
             [
              0.7777777777777778,
              "#fb9f3a"
             ],
             [
              0.8888888888888888,
              "#fdca26"
             ],
             [
              1,
              "#f0f921"
             ]
            ],
            "type": "histogram2dcontour"
           }
          ],
          "mesh3d": [
           {
            "colorbar": {
             "outlinewidth": 0,
             "ticks": ""
            },
            "type": "mesh3d"
           }
          ],
          "parcoords": [
           {
            "line": {
             "colorbar": {
              "outlinewidth": 0,
              "ticks": ""
             }
            },
            "type": "parcoords"
           }
          ],
          "pie": [
           {
            "automargin": true,
            "type": "pie"
           }
          ],
          "scatter": [
           {
            "fillpattern": {
             "fillmode": "overlay",
             "size": 10,
             "solidity": 0.2
            },
            "type": "scatter"
           }
          ],
          "scatter3d": [
           {
            "line": {
             "colorbar": {
              "outlinewidth": 0,
              "ticks": ""
             }
            },
            "marker": {
             "colorbar": {
              "outlinewidth": 0,
              "ticks": ""
             }
            },
            "type": "scatter3d"
           }
          ],
          "scattercarpet": [
           {
            "marker": {
             "colorbar": {
              "outlinewidth": 0,
              "ticks": ""
             }
            },
            "type": "scattercarpet"
           }
          ],
          "scattergeo": [
           {
            "marker": {
             "colorbar": {
              "outlinewidth": 0,
              "ticks": ""
             }
            },
            "type": "scattergeo"
           }
          ],
          "scattergl": [
           {
            "marker": {
             "colorbar": {
              "outlinewidth": 0,
              "ticks": ""
             }
            },
            "type": "scattergl"
           }
          ],
          "scattermapbox": [
           {
            "marker": {
             "colorbar": {
              "outlinewidth": 0,
              "ticks": ""
             }
            },
            "type": "scattermapbox"
           }
          ],
          "scatterpolar": [
           {
            "marker": {
             "colorbar": {
              "outlinewidth": 0,
              "ticks": ""
             }
            },
            "type": "scatterpolar"
           }
          ],
          "scatterpolargl": [
           {
            "marker": {
             "colorbar": {
              "outlinewidth": 0,
              "ticks": ""
             }
            },
            "type": "scatterpolargl"
           }
          ],
          "scatterternary": [
           {
            "marker": {
             "colorbar": {
              "outlinewidth": 0,
              "ticks": ""
             }
            },
            "type": "scatterternary"
           }
          ],
          "surface": [
           {
            "colorbar": {
             "outlinewidth": 0,
             "ticks": ""
            },
            "colorscale": [
             [
              0,
              "#0d0887"
             ],
             [
              0.1111111111111111,
              "#46039f"
             ],
             [
              0.2222222222222222,
              "#7201a8"
             ],
             [
              0.3333333333333333,
              "#9c179e"
             ],
             [
              0.4444444444444444,
              "#bd3786"
             ],
             [
              0.5555555555555556,
              "#d8576b"
             ],
             [
              0.6666666666666666,
              "#ed7953"
             ],
             [
              0.7777777777777778,
              "#fb9f3a"
             ],
             [
              0.8888888888888888,
              "#fdca26"
             ],
             [
              1,
              "#f0f921"
             ]
            ],
            "type": "surface"
           }
          ],
          "table": [
           {
            "cells": {
             "fill": {
              "color": "#EBF0F8"
             },
             "line": {
              "color": "white"
             }
            },
            "header": {
             "fill": {
              "color": "#C8D4E3"
             },
             "line": {
              "color": "white"
             }
            },
            "type": "table"
           }
          ]
         },
         "layout": {
          "annotationdefaults": {
           "arrowcolor": "#2a3f5f",
           "arrowhead": 0,
           "arrowwidth": 1
          },
          "autotypenumbers": "strict",
          "coloraxis": {
           "colorbar": {
            "outlinewidth": 0,
            "ticks": ""
           }
          },
          "colorscale": {
           "diverging": [
            [
             0,
             "#8e0152"
            ],
            [
             0.1,
             "#c51b7d"
            ],
            [
             0.2,
             "#de77ae"
            ],
            [
             0.3,
             "#f1b6da"
            ],
            [
             0.4,
             "#fde0ef"
            ],
            [
             0.5,
             "#f7f7f7"
            ],
            [
             0.6,
             "#e6f5d0"
            ],
            [
             0.7,
             "#b8e186"
            ],
            [
             0.8,
             "#7fbc41"
            ],
            [
             0.9,
             "#4d9221"
            ],
            [
             1,
             "#276419"
            ]
           ],
           "sequential": [
            [
             0,
             "#0d0887"
            ],
            [
             0.1111111111111111,
             "#46039f"
            ],
            [
             0.2222222222222222,
             "#7201a8"
            ],
            [
             0.3333333333333333,
             "#9c179e"
            ],
            [
             0.4444444444444444,
             "#bd3786"
            ],
            [
             0.5555555555555556,
             "#d8576b"
            ],
            [
             0.6666666666666666,
             "#ed7953"
            ],
            [
             0.7777777777777778,
             "#fb9f3a"
            ],
            [
             0.8888888888888888,
             "#fdca26"
            ],
            [
             1,
             "#f0f921"
            ]
           ],
           "sequentialminus": [
            [
             0,
             "#0d0887"
            ],
            [
             0.1111111111111111,
             "#46039f"
            ],
            [
             0.2222222222222222,
             "#7201a8"
            ],
            [
             0.3333333333333333,
             "#9c179e"
            ],
            [
             0.4444444444444444,
             "#bd3786"
            ],
            [
             0.5555555555555556,
             "#d8576b"
            ],
            [
             0.6666666666666666,
             "#ed7953"
            ],
            [
             0.7777777777777778,
             "#fb9f3a"
            ],
            [
             0.8888888888888888,
             "#fdca26"
            ],
            [
             1,
             "#f0f921"
            ]
           ]
          },
          "colorway": [
           "#636efa",
           "#EF553B",
           "#00cc96",
           "#ab63fa",
           "#FFA15A",
           "#19d3f3",
           "#FF6692",
           "#B6E880",
           "#FF97FF",
           "#FECB52"
          ],
          "font": {
           "color": "#2a3f5f"
          },
          "geo": {
           "bgcolor": "white",
           "lakecolor": "white",
           "landcolor": "#E5ECF6",
           "showlakes": true,
           "showland": true,
           "subunitcolor": "white"
          },
          "hoverlabel": {
           "align": "left"
          },
          "hovermode": "closest",
          "mapbox": {
           "style": "light"
          },
          "paper_bgcolor": "white",
          "plot_bgcolor": "#E5ECF6",
          "polar": {
           "angularaxis": {
            "gridcolor": "white",
            "linecolor": "white",
            "ticks": ""
           },
           "bgcolor": "#E5ECF6",
           "radialaxis": {
            "gridcolor": "white",
            "linecolor": "white",
            "ticks": ""
           }
          },
          "scene": {
           "xaxis": {
            "backgroundcolor": "#E5ECF6",
            "gridcolor": "white",
            "gridwidth": 2,
            "linecolor": "white",
            "showbackground": true,
            "ticks": "",
            "zerolinecolor": "white"
           },
           "yaxis": {
            "backgroundcolor": "#E5ECF6",
            "gridcolor": "white",
            "gridwidth": 2,
            "linecolor": "white",
            "showbackground": true,
            "ticks": "",
            "zerolinecolor": "white"
           },
           "zaxis": {
            "backgroundcolor": "#E5ECF6",
            "gridcolor": "white",
            "gridwidth": 2,
            "linecolor": "white",
            "showbackground": true,
            "ticks": "",
            "zerolinecolor": "white"
           }
          },
          "shapedefaults": {
           "line": {
            "color": "#2a3f5f"
           }
          },
          "ternary": {
           "aaxis": {
            "gridcolor": "white",
            "linecolor": "white",
            "ticks": ""
           },
           "baxis": {
            "gridcolor": "white",
            "linecolor": "white",
            "ticks": ""
           },
           "bgcolor": "#E5ECF6",
           "caxis": {
            "gridcolor": "white",
            "linecolor": "white",
            "ticks": ""
           }
          },
          "title": {
           "x": 0.05
          },
          "xaxis": {
           "automargin": true,
           "gridcolor": "white",
           "linecolor": "white",
           "ticks": "",
           "title": {
            "standoff": 15
           },
           "zerolinecolor": "white",
           "zerolinewidth": 2
          },
          "yaxis": {
           "automargin": true,
           "gridcolor": "white",
           "linecolor": "white",
           "ticks": "",
           "title": {
            "standoff": 15
           },
           "zerolinecolor": "white",
           "zerolinewidth": 2
          }
         }
        }
       }
      }
     },
     "metadata": {},
     "output_type": "display_data"
    }
   ],
   "source": [
    "sexo.show()"
   ]
  },
  {
   "cell_type": "code",
   "execution_count": 24,
   "metadata": {},
   "outputs": [
    {
     "data": {
      "application/vnd.plotly.v1+json": {
       "config": {
        "plotlyServerURL": "https://plot.ly"
       },
       "data": [
        {
         "alignmentgroup": "True",
         "bingroup": "x",
         "hovertemplate": "joga=1<br>idade=%{x}<br>count=%{y}<extra></extra>",
         "legendgroup": "1",
         "marker": {
          "color": "#636efa",
          "pattern": {
           "shape": ""
          }
         },
         "name": "1",
         "offsetgroup": "1",
         "orientation": "v",
         "showlegend": true,
         "type": "histogram",
         "x": [
          20,
          20,
          20,
          20,
          15,
          20,
          21,
          20,
          19,
          21,
          20,
          19,
          20,
          20,
          20,
          15,
          18,
          16,
          15,
          16,
          16,
          20,
          20,
          19,
          20,
          21,
          19,
          20,
          16,
          16,
          19,
          20,
          19,
          21,
          21,
          15,
          19,
          23,
          16,
          18,
          18,
          18,
          19,
          19,
          19,
          18,
          20,
          24,
          26,
          20,
          20,
          19,
          18,
          19,
          18,
          21,
          57,
          38,
          15,
          20,
          36,
          22,
          78,
          38,
          21,
          38,
          15,
          15,
          25,
          42,
          15,
          38,
          27,
          29,
          29,
          20,
          37,
          21,
          33,
          19,
          23,
          26,
          28,
          38,
          20,
          25,
          18,
          21,
          42,
          18,
          17,
          18,
          19,
          17,
          59,
          16,
          15,
          15,
          27,
          23,
          51,
          18,
          21,
          15,
          19,
          19,
          17,
          18,
          19,
          15,
          17,
          21,
          17,
          20,
          29,
          18,
          14,
          19
         ],
         "xaxis": "x",
         "yaxis": "y"
        },
        {
         "alignmentgroup": "True",
         "bingroup": "x",
         "hovertemplate": "joga=0<br>idade=%{x}<br>count=%{y}<extra></extra>",
         "legendgroup": "0",
         "marker": {
          "color": "#EF553B",
          "pattern": {
           "shape": ""
          }
         },
         "name": "0",
         "offsetgroup": "0",
         "orientation": "v",
         "showlegend": true,
         "type": "histogram",
         "x": [
          55,
          21,
          19,
          16,
          19,
          20,
          50,
          17,
          15,
          20,
          49,
          49,
          82,
          52,
          21,
          39,
          54,
          19,
          21,
          20,
          49,
          19,
          19,
          51,
          51,
          51,
          38,
          53,
          19,
          59,
          40,
          48,
          49,
          60,
          51,
          42,
          41,
          48,
          55,
          59,
          53,
          52,
          20,
          19,
          23,
          19,
          19,
          50,
          20
         ],
         "xaxis": "x",
         "yaxis": "y"
        }
       ],
       "layout": {
        "barmode": "relative",
        "legend": {
         "title": {
          "text": "joga"
         },
         "tracegroupgap": 0
        },
        "margin": {
         "t": 60
        },
        "template": {
         "data": {
          "bar": [
           {
            "error_x": {
             "color": "#2a3f5f"
            },
            "error_y": {
             "color": "#2a3f5f"
            },
            "marker": {
             "line": {
              "color": "#E5ECF6",
              "width": 0.5
             },
             "pattern": {
              "fillmode": "overlay",
              "size": 10,
              "solidity": 0.2
             }
            },
            "type": "bar"
           }
          ],
          "barpolar": [
           {
            "marker": {
             "line": {
              "color": "#E5ECF6",
              "width": 0.5
             },
             "pattern": {
              "fillmode": "overlay",
              "size": 10,
              "solidity": 0.2
             }
            },
            "type": "barpolar"
           }
          ],
          "carpet": [
           {
            "aaxis": {
             "endlinecolor": "#2a3f5f",
             "gridcolor": "white",
             "linecolor": "white",
             "minorgridcolor": "white",
             "startlinecolor": "#2a3f5f"
            },
            "baxis": {
             "endlinecolor": "#2a3f5f",
             "gridcolor": "white",
             "linecolor": "white",
             "minorgridcolor": "white",
             "startlinecolor": "#2a3f5f"
            },
            "type": "carpet"
           }
          ],
          "choropleth": [
           {
            "colorbar": {
             "outlinewidth": 0,
             "ticks": ""
            },
            "type": "choropleth"
           }
          ],
          "contour": [
           {
            "colorbar": {
             "outlinewidth": 0,
             "ticks": ""
            },
            "colorscale": [
             [
              0,
              "#0d0887"
             ],
             [
              0.1111111111111111,
              "#46039f"
             ],
             [
              0.2222222222222222,
              "#7201a8"
             ],
             [
              0.3333333333333333,
              "#9c179e"
             ],
             [
              0.4444444444444444,
              "#bd3786"
             ],
             [
              0.5555555555555556,
              "#d8576b"
             ],
             [
              0.6666666666666666,
              "#ed7953"
             ],
             [
              0.7777777777777778,
              "#fb9f3a"
             ],
             [
              0.8888888888888888,
              "#fdca26"
             ],
             [
              1,
              "#f0f921"
             ]
            ],
            "type": "contour"
           }
          ],
          "contourcarpet": [
           {
            "colorbar": {
             "outlinewidth": 0,
             "ticks": ""
            },
            "type": "contourcarpet"
           }
          ],
          "heatmap": [
           {
            "colorbar": {
             "outlinewidth": 0,
             "ticks": ""
            },
            "colorscale": [
             [
              0,
              "#0d0887"
             ],
             [
              0.1111111111111111,
              "#46039f"
             ],
             [
              0.2222222222222222,
              "#7201a8"
             ],
             [
              0.3333333333333333,
              "#9c179e"
             ],
             [
              0.4444444444444444,
              "#bd3786"
             ],
             [
              0.5555555555555556,
              "#d8576b"
             ],
             [
              0.6666666666666666,
              "#ed7953"
             ],
             [
              0.7777777777777778,
              "#fb9f3a"
             ],
             [
              0.8888888888888888,
              "#fdca26"
             ],
             [
              1,
              "#f0f921"
             ]
            ],
            "type": "heatmap"
           }
          ],
          "heatmapgl": [
           {
            "colorbar": {
             "outlinewidth": 0,
             "ticks": ""
            },
            "colorscale": [
             [
              0,
              "#0d0887"
             ],
             [
              0.1111111111111111,
              "#46039f"
             ],
             [
              0.2222222222222222,
              "#7201a8"
             ],
             [
              0.3333333333333333,
              "#9c179e"
             ],
             [
              0.4444444444444444,
              "#bd3786"
             ],
             [
              0.5555555555555556,
              "#d8576b"
             ],
             [
              0.6666666666666666,
              "#ed7953"
             ],
             [
              0.7777777777777778,
              "#fb9f3a"
             ],
             [
              0.8888888888888888,
              "#fdca26"
             ],
             [
              1,
              "#f0f921"
             ]
            ],
            "type": "heatmapgl"
           }
          ],
          "histogram": [
           {
            "marker": {
             "pattern": {
              "fillmode": "overlay",
              "size": 10,
              "solidity": 0.2
             }
            },
            "type": "histogram"
           }
          ],
          "histogram2d": [
           {
            "colorbar": {
             "outlinewidth": 0,
             "ticks": ""
            },
            "colorscale": [
             [
              0,
              "#0d0887"
             ],
             [
              0.1111111111111111,
              "#46039f"
             ],
             [
              0.2222222222222222,
              "#7201a8"
             ],
             [
              0.3333333333333333,
              "#9c179e"
             ],
             [
              0.4444444444444444,
              "#bd3786"
             ],
             [
              0.5555555555555556,
              "#d8576b"
             ],
             [
              0.6666666666666666,
              "#ed7953"
             ],
             [
              0.7777777777777778,
              "#fb9f3a"
             ],
             [
              0.8888888888888888,
              "#fdca26"
             ],
             [
              1,
              "#f0f921"
             ]
            ],
            "type": "histogram2d"
           }
          ],
          "histogram2dcontour": [
           {
            "colorbar": {
             "outlinewidth": 0,
             "ticks": ""
            },
            "colorscale": [
             [
              0,
              "#0d0887"
             ],
             [
              0.1111111111111111,
              "#46039f"
             ],
             [
              0.2222222222222222,
              "#7201a8"
             ],
             [
              0.3333333333333333,
              "#9c179e"
             ],
             [
              0.4444444444444444,
              "#bd3786"
             ],
             [
              0.5555555555555556,
              "#d8576b"
             ],
             [
              0.6666666666666666,
              "#ed7953"
             ],
             [
              0.7777777777777778,
              "#fb9f3a"
             ],
             [
              0.8888888888888888,
              "#fdca26"
             ],
             [
              1,
              "#f0f921"
             ]
            ],
            "type": "histogram2dcontour"
           }
          ],
          "mesh3d": [
           {
            "colorbar": {
             "outlinewidth": 0,
             "ticks": ""
            },
            "type": "mesh3d"
           }
          ],
          "parcoords": [
           {
            "line": {
             "colorbar": {
              "outlinewidth": 0,
              "ticks": ""
             }
            },
            "type": "parcoords"
           }
          ],
          "pie": [
           {
            "automargin": true,
            "type": "pie"
           }
          ],
          "scatter": [
           {
            "fillpattern": {
             "fillmode": "overlay",
             "size": 10,
             "solidity": 0.2
            },
            "type": "scatter"
           }
          ],
          "scatter3d": [
           {
            "line": {
             "colorbar": {
              "outlinewidth": 0,
              "ticks": ""
             }
            },
            "marker": {
             "colorbar": {
              "outlinewidth": 0,
              "ticks": ""
             }
            },
            "type": "scatter3d"
           }
          ],
          "scattercarpet": [
           {
            "marker": {
             "colorbar": {
              "outlinewidth": 0,
              "ticks": ""
             }
            },
            "type": "scattercarpet"
           }
          ],
          "scattergeo": [
           {
            "marker": {
             "colorbar": {
              "outlinewidth": 0,
              "ticks": ""
             }
            },
            "type": "scattergeo"
           }
          ],
          "scattergl": [
           {
            "marker": {
             "colorbar": {
              "outlinewidth": 0,
              "ticks": ""
             }
            },
            "type": "scattergl"
           }
          ],
          "scattermapbox": [
           {
            "marker": {
             "colorbar": {
              "outlinewidth": 0,
              "ticks": ""
             }
            },
            "type": "scattermapbox"
           }
          ],
          "scatterpolar": [
           {
            "marker": {
             "colorbar": {
              "outlinewidth": 0,
              "ticks": ""
             }
            },
            "type": "scatterpolar"
           }
          ],
          "scatterpolargl": [
           {
            "marker": {
             "colorbar": {
              "outlinewidth": 0,
              "ticks": ""
             }
            },
            "type": "scatterpolargl"
           }
          ],
          "scatterternary": [
           {
            "marker": {
             "colorbar": {
              "outlinewidth": 0,
              "ticks": ""
             }
            },
            "type": "scatterternary"
           }
          ],
          "surface": [
           {
            "colorbar": {
             "outlinewidth": 0,
             "ticks": ""
            },
            "colorscale": [
             [
              0,
              "#0d0887"
             ],
             [
              0.1111111111111111,
              "#46039f"
             ],
             [
              0.2222222222222222,
              "#7201a8"
             ],
             [
              0.3333333333333333,
              "#9c179e"
             ],
             [
              0.4444444444444444,
              "#bd3786"
             ],
             [
              0.5555555555555556,
              "#d8576b"
             ],
             [
              0.6666666666666666,
              "#ed7953"
             ],
             [
              0.7777777777777778,
              "#fb9f3a"
             ],
             [
              0.8888888888888888,
              "#fdca26"
             ],
             [
              1,
              "#f0f921"
             ]
            ],
            "type": "surface"
           }
          ],
          "table": [
           {
            "cells": {
             "fill": {
              "color": "#EBF0F8"
             },
             "line": {
              "color": "white"
             }
            },
            "header": {
             "fill": {
              "color": "#C8D4E3"
             },
             "line": {
              "color": "white"
             }
            },
            "type": "table"
           }
          ]
         },
         "layout": {
          "annotationdefaults": {
           "arrowcolor": "#2a3f5f",
           "arrowhead": 0,
           "arrowwidth": 1
          },
          "autotypenumbers": "strict",
          "coloraxis": {
           "colorbar": {
            "outlinewidth": 0,
            "ticks": ""
           }
          },
          "colorscale": {
           "diverging": [
            [
             0,
             "#8e0152"
            ],
            [
             0.1,
             "#c51b7d"
            ],
            [
             0.2,
             "#de77ae"
            ],
            [
             0.3,
             "#f1b6da"
            ],
            [
             0.4,
             "#fde0ef"
            ],
            [
             0.5,
             "#f7f7f7"
            ],
            [
             0.6,
             "#e6f5d0"
            ],
            [
             0.7,
             "#b8e186"
            ],
            [
             0.8,
             "#7fbc41"
            ],
            [
             0.9,
             "#4d9221"
            ],
            [
             1,
             "#276419"
            ]
           ],
           "sequential": [
            [
             0,
             "#0d0887"
            ],
            [
             0.1111111111111111,
             "#46039f"
            ],
            [
             0.2222222222222222,
             "#7201a8"
            ],
            [
             0.3333333333333333,
             "#9c179e"
            ],
            [
             0.4444444444444444,
             "#bd3786"
            ],
            [
             0.5555555555555556,
             "#d8576b"
            ],
            [
             0.6666666666666666,
             "#ed7953"
            ],
            [
             0.7777777777777778,
             "#fb9f3a"
            ],
            [
             0.8888888888888888,
             "#fdca26"
            ],
            [
             1,
             "#f0f921"
            ]
           ],
           "sequentialminus": [
            [
             0,
             "#0d0887"
            ],
            [
             0.1111111111111111,
             "#46039f"
            ],
            [
             0.2222222222222222,
             "#7201a8"
            ],
            [
             0.3333333333333333,
             "#9c179e"
            ],
            [
             0.4444444444444444,
             "#bd3786"
            ],
            [
             0.5555555555555556,
             "#d8576b"
            ],
            [
             0.6666666666666666,
             "#ed7953"
            ],
            [
             0.7777777777777778,
             "#fb9f3a"
            ],
            [
             0.8888888888888888,
             "#fdca26"
            ],
            [
             1,
             "#f0f921"
            ]
           ]
          },
          "colorway": [
           "#636efa",
           "#EF553B",
           "#00cc96",
           "#ab63fa",
           "#FFA15A",
           "#19d3f3",
           "#FF6692",
           "#B6E880",
           "#FF97FF",
           "#FECB52"
          ],
          "font": {
           "color": "#2a3f5f"
          },
          "geo": {
           "bgcolor": "white",
           "lakecolor": "white",
           "landcolor": "#E5ECF6",
           "showlakes": true,
           "showland": true,
           "subunitcolor": "white"
          },
          "hoverlabel": {
           "align": "left"
          },
          "hovermode": "closest",
          "mapbox": {
           "style": "light"
          },
          "paper_bgcolor": "white",
          "plot_bgcolor": "#E5ECF6",
          "polar": {
           "angularaxis": {
            "gridcolor": "white",
            "linecolor": "white",
            "ticks": ""
           },
           "bgcolor": "#E5ECF6",
           "radialaxis": {
            "gridcolor": "white",
            "linecolor": "white",
            "ticks": ""
           }
          },
          "scene": {
           "xaxis": {
            "backgroundcolor": "#E5ECF6",
            "gridcolor": "white",
            "gridwidth": 2,
            "linecolor": "white",
            "showbackground": true,
            "ticks": "",
            "zerolinecolor": "white"
           },
           "yaxis": {
            "backgroundcolor": "#E5ECF6",
            "gridcolor": "white",
            "gridwidth": 2,
            "linecolor": "white",
            "showbackground": true,
            "ticks": "",
            "zerolinecolor": "white"
           },
           "zaxis": {
            "backgroundcolor": "#E5ECF6",
            "gridcolor": "white",
            "gridwidth": 2,
            "linecolor": "white",
            "showbackground": true,
            "ticks": "",
            "zerolinecolor": "white"
           }
          },
          "shapedefaults": {
           "line": {
            "color": "#2a3f5f"
           }
          },
          "ternary": {
           "aaxis": {
            "gridcolor": "white",
            "linecolor": "white",
            "ticks": ""
           },
           "baxis": {
            "gridcolor": "white",
            "linecolor": "white",
            "ticks": ""
           },
           "bgcolor": "#E5ECF6",
           "caxis": {
            "gridcolor": "white",
            "linecolor": "white",
            "ticks": ""
           }
          },
          "title": {
           "x": 0.05
          },
          "xaxis": {
           "automargin": true,
           "gridcolor": "white",
           "linecolor": "white",
           "ticks": "",
           "title": {
            "standoff": 15
           },
           "zerolinecolor": "white",
           "zerolinewidth": 2
          },
          "yaxis": {
           "automargin": true,
           "gridcolor": "white",
           "linecolor": "white",
           "ticks": "",
           "title": {
            "standoff": 15
           },
           "zerolinecolor": "white",
           "zerolinewidth": 2
          }
         }
        },
        "xaxis": {
         "anchor": "y",
         "domain": [
          0,
          1
         ],
         "title": {
          "text": "idade"
         }
        },
        "yaxis": {
         "anchor": "x",
         "domain": [
          0,
          1
         ],
         "title": {
          "text": "count"
         }
        }
       }
      }
     },
     "metadata": {},
     "output_type": "display_data"
    }
   ],
   "source": [
    "joga.show()"
   ]
  },
  {
   "cell_type": "markdown",
   "metadata": {},
   "source": [
    "### Editando Ocupações"
   ]
  },
  {
   "cell_type": "code",
   "execution_count": 25,
   "metadata": {},
   "outputs": [
    {
     "data": {
      "text/plain": [
       "Estudante                 96\n",
       "Trabalhador               44\n",
       "Estudante;Trabalhador     13\n",
       "Desempregado               6\n",
       "Estudante;Desempregado     5\n",
       "Aposentado                 2\n",
       "Aposentado;Trabalhador     1\n",
       "Name: ocupacao, dtype: int64"
      ]
     },
     "execution_count": 25,
     "metadata": {},
     "output_type": "execute_result"
    }
   ],
   "source": [
    "data['ocupacao'].value_counts()"
   ]
  },
  {
   "cell_type": "code",
   "execution_count": 26,
   "metadata": {},
   "outputs": [],
   "source": [
    "# comparando Estudante;Desempregado com Estudante;Trabalhador\n",
    "\n",
    "array = [\"Estudante;Desempregado\",\"Estudante;Trabalhador\"]\n",
    "\n",
    "Estudantes=data.loc[data['ocupacao'].isin(array)] # cria um df so com estudantes;desempregado e estudante;trabalhador\n",
    "\n",
    "arrayEmprego = [\"Estudante\",\"Trabalhador\"]\n",
    "\n",
    "Emprego=data.loc[data['ocupacao'].isin(arrayEmprego)]# cria um df so com estudantes e trabalhador\n",
    "\n",
    "arrayAposentado = [\"Aposentado;Trabalhador\",\"Aposentado\"]\n",
    "\n",
    "Aposentado=data.loc[data['ocupacao'].isin(arrayAposentado)]# cria um df so com aposentado;trabalhador e aposentado\n"
   ]
  },
  {
   "cell_type": "code",
   "execution_count": 27,
   "metadata": {},
   "outputs": [
    {
     "data": {
      "text/html": [
       "<div>\n",
       "<style scoped>\n",
       "    .dataframe tbody tr th:only-of-type {\n",
       "        vertical-align: middle;\n",
       "    }\n",
       "\n",
       "    .dataframe tbody tr th {\n",
       "        vertical-align: top;\n",
       "    }\n",
       "\n",
       "    .dataframe thead th {\n",
       "        text-align: right;\n",
       "    }\n",
       "</style>\n",
       "<table border=\"1\" class=\"dataframe\">\n",
       "  <thead>\n",
       "    <tr style=\"text-align: right;\">\n",
       "      <th></th>\n",
       "      <th>idade</th>\n",
       "      <th>genero</th>\n",
       "      <th>ocupacao</th>\n",
       "      <th>estado</th>\n",
       "      <th>ingles</th>\n",
       "      <th>filhos</th>\n",
       "      <th>joga</th>\n",
       "      <th>quant_jogos</th>\n",
       "      <th>fav_jogos</th>\n",
       "      <th>midia</th>\n",
       "      <th>importante_jogo</th>\n",
       "      <th>assina</th>\n",
       "      <th>quais</th>\n",
       "      <th>paga</th>\n",
       "      <th>count</th>\n",
       "    </tr>\n",
       "  </thead>\n",
       "  <tbody>\n",
       "    <tr>\n",
       "      <th>0</th>\n",
       "      <td>20</td>\n",
       "      <td>Feminino</td>\n",
       "      <td>Estudante</td>\n",
       "      <td>Solteira(o)</td>\n",
       "      <td>Fluente</td>\n",
       "      <td>0</td>\n",
       "      <td>1</td>\n",
       "      <td>0.0</td>\n",
       "      <td>Ação/Aventura</td>\n",
       "      <td>Mídia digital</td>\n",
       "      <td>Indiferente</td>\n",
       "      <td>0</td>\n",
       "      <td>-1</td>\n",
       "      <td>Não pagaria</td>\n",
       "      <td>1.0</td>\n",
       "    </tr>\n",
       "    <tr>\n",
       "      <th>1</th>\n",
       "      <td>20</td>\n",
       "      <td>Masculino</td>\n",
       "      <td>Estudante</td>\n",
       "      <td>Solteira(o)</td>\n",
       "      <td>Fluente</td>\n",
       "      <td>0</td>\n",
       "      <td>1</td>\n",
       "      <td>1.0</td>\n",
       "      <td>Ação/Aventura;Estratégia;RPG;Simulação</td>\n",
       "      <td>Mídia física</td>\n",
       "      <td>Desconto;Duração;Preço;Qualidade</td>\n",
       "      <td>0</td>\n",
       "      <td>-1</td>\n",
       "      <td>10 a 30</td>\n",
       "      <td>1.0</td>\n",
       "    </tr>\n",
       "    <tr>\n",
       "      <th>2</th>\n",
       "      <td>20</td>\n",
       "      <td>Feminino</td>\n",
       "      <td>Estudante</td>\n",
       "      <td>Solteira(o)</td>\n",
       "      <td>Intermediário</td>\n",
       "      <td>0</td>\n",
       "      <td>1</td>\n",
       "      <td>1.0</td>\n",
       "      <td>Ação/Aventura;FPS;Simulação</td>\n",
       "      <td>Indiferente</td>\n",
       "      <td>Duração;Preço;Qualidade</td>\n",
       "      <td>0</td>\n",
       "      <td>-1</td>\n",
       "      <td>10 a 30</td>\n",
       "      <td>1.0</td>\n",
       "    </tr>\n",
       "  </tbody>\n",
       "</table>\n",
       "</div>"
      ],
      "text/plain": [
       "   idade     genero   ocupacao       estado         ingles  filhos  joga  \\\n",
       "0     20   Feminino  Estudante  Solteira(o)        Fluente       0     1   \n",
       "1     20  Masculino  Estudante  Solteira(o)        Fluente       0     1   \n",
       "2     20   Feminino  Estudante  Solteira(o)  Intermediário       0     1   \n",
       "\n",
       "   quant_jogos                               fav_jogos          midia  \\\n",
       "0          0.0                           Ação/Aventura  Mídia digital   \n",
       "1          1.0  Ação/Aventura;Estratégia;RPG;Simulação   Mídia física   \n",
       "2          1.0             Ação/Aventura;FPS;Simulação    Indiferente   \n",
       "\n",
       "                    importante_jogo  assina quais         paga  count  \n",
       "0                       Indiferente       0    -1  Não pagaria    1.0  \n",
       "1  Desconto;Duração;Preço;Qualidade       0    -1      10 a 30    1.0  \n",
       "2           Duração;Preço;Qualidade       0    -1      10 a 30    1.0  "
      ]
     },
     "execution_count": 27,
     "metadata": {},
     "output_type": "execute_result"
    }
   ],
   "source": [
    "data.head(3)"
   ]
  },
  {
   "cell_type": "markdown",
   "metadata": {},
   "source": [
    "### Vendo a distribuição dos dados"
   ]
  },
  {
   "cell_type": "code",
   "execution_count": 28,
   "metadata": {},
   "outputs": [
    {
     "name": "stdout",
     "output_type": "stream",
     "text": [
      "Masculino               0.634731\n",
      "Feminino                0.335329\n",
      "Outros                  0.023952\n",
      "Prefiro não informar    0.005988\n",
      "Name: genero, dtype: float64\n",
      "Estudante                 0.574850\n",
      "Trabalhador               0.263473\n",
      "Estudante;Trabalhador     0.077844\n",
      "Desempregado              0.035928\n",
      "Estudante;Desempregado    0.029940\n",
      "Aposentado                0.011976\n",
      "Aposentado;Trabalhador    0.005988\n",
      "Name: ocupacao, dtype: float64\n",
      "Solteira(o)    0.718563\n",
      "Casada(o)      0.239521\n",
      "Separada(o)    0.023952\n",
      "Married        0.011976\n",
      "Viúva(o)       0.005988\n",
      "Name: estado, dtype: float64\n",
      "Intermediário          0.275449\n",
      "Avançado               0.263473\n",
      "Fluente                0.251497\n",
      "Básico                 0.119760\n",
      "Tenho ingles nativo    0.053892\n",
      "Nenhum                 0.035928\n",
      "Name: ingles, dtype: float64\n",
      "0    0.808383\n",
      "1    0.191617\n",
      "Name: filhos, dtype: float64\n",
      "1    0.706587\n",
      "0    0.293413\n",
      "Name: joga, dtype: float64\n",
      "-1.0     0.293413\n",
      " 0.0     0.257485\n",
      " 1.0     0.143713\n",
      " 3.0     0.107784\n",
      " 2.0     0.077844\n",
      " 4.0     0.047904\n",
      " 5.0     0.029940\n",
      " 6.0     0.011976\n",
      " 12.0    0.005988\n",
      " 9.0     0.005988\n",
      " 19.0    0.005988\n",
      " 11.0    0.005988\n",
      " 16.0    0.005988\n",
      "Name: quant_jogos, dtype: float64\n",
      " 0    0.353293\n",
      " 1    0.353293\n",
      "-1    0.293413\n",
      "Name: assina, dtype: float64\n"
     ]
    }
   ],
   "source": [
    "for c in categorias1:\n",
    "\n",
    "    print(data[c].value_counts(1)) #ver dados bem distribuidos \n",
    "    "
   ]
  },
  {
   "cell_type": "markdown",
   "metadata": {},
   "source": [
    "## Nivel de ingles influencia se a pessoa joga ?\n",
    "- conclusao (ingles)"
   ]
  },
  {
   "cell_type": "code",
   "execution_count": 29,
   "metadata": {},
   "outputs": [
    {
     "data": {
      "text/html": [
       "<div>\n",
       "<style scoped>\n",
       "    .dataframe tbody tr th:only-of-type {\n",
       "        vertical-align: middle;\n",
       "    }\n",
       "\n",
       "    .dataframe tbody tr th {\n",
       "        vertical-align: top;\n",
       "    }\n",
       "\n",
       "    .dataframe thead th {\n",
       "        text-align: right;\n",
       "    }\n",
       "</style>\n",
       "<table border=\"1\" class=\"dataframe\">\n",
       "  <thead>\n",
       "    <tr style=\"text-align: right;\">\n",
       "      <th>joga</th>\n",
       "      <th>0</th>\n",
       "      <th>1</th>\n",
       "      <th>total</th>\n",
       "      <th>0 em %</th>\n",
       "      <th>1 em %</th>\n",
       "    </tr>\n",
       "    <tr>\n",
       "      <th>ingles</th>\n",
       "      <th></th>\n",
       "      <th></th>\n",
       "      <th></th>\n",
       "      <th></th>\n",
       "      <th></th>\n",
       "    </tr>\n",
       "  </thead>\n",
       "  <tbody>\n",
       "    <tr>\n",
       "      <th>Avançado</th>\n",
       "      <td>15.0</td>\n",
       "      <td>29.0</td>\n",
       "      <td>44</td>\n",
       "      <td>34.090909</td>\n",
       "      <td>65.909091</td>\n",
       "    </tr>\n",
       "    <tr>\n",
       "      <th>Básico</th>\n",
       "      <td>11.0</td>\n",
       "      <td>9.0</td>\n",
       "      <td>20</td>\n",
       "      <td>55.000000</td>\n",
       "      <td>45.000000</td>\n",
       "    </tr>\n",
       "    <tr>\n",
       "      <th>Fluente</th>\n",
       "      <td>7.0</td>\n",
       "      <td>35.0</td>\n",
       "      <td>42</td>\n",
       "      <td>16.666667</td>\n",
       "      <td>83.333333</td>\n",
       "    </tr>\n",
       "    <tr>\n",
       "      <th>Intermediário</th>\n",
       "      <td>14.0</td>\n",
       "      <td>32.0</td>\n",
       "      <td>46</td>\n",
       "      <td>30.434783</td>\n",
       "      <td>69.565217</td>\n",
       "    </tr>\n",
       "    <tr>\n",
       "      <th>Nenhum</th>\n",
       "      <td>2.0</td>\n",
       "      <td>4.0</td>\n",
       "      <td>6</td>\n",
       "      <td>33.333333</td>\n",
       "      <td>66.666667</td>\n",
       "    </tr>\n",
       "    <tr>\n",
       "      <th>Tenho ingles nativo</th>\n",
       "      <td>0.0</td>\n",
       "      <td>9.0</td>\n",
       "      <td>9</td>\n",
       "      <td>0.000000</td>\n",
       "      <td>100.000000</td>\n",
       "    </tr>\n",
       "  </tbody>\n",
       "</table>\n",
       "</div>"
      ],
      "text/plain": [
       "joga                    0     1  total     0 em %      1 em %\n",
       "ingles                                                       \n",
       "Avançado             15.0  29.0     44  34.090909   65.909091\n",
       "Básico               11.0   9.0     20  55.000000   45.000000\n",
       "Fluente               7.0  35.0     42  16.666667   83.333333\n",
       "Intermediário        14.0  32.0     46  30.434783   69.565217\n",
       "Nenhum                2.0   4.0      6  33.333333   66.666667\n",
       "Tenho ingles nativo   0.0   9.0      9   0.000000  100.000000"
      ]
     },
     "execution_count": 29,
     "metadata": {},
     "output_type": "execute_result"
    }
   ],
   "source": [
    "tempdf=data.groupby(['ingles','joga']).joga.count().unstack().fillna(0)\n",
    "tempdf['total']=data['ingles'].value_counts()\n",
    "tempdf['0 em %']=tempdf[0]/tempdf['total']*100\n",
    "tempdf['1 em %']=tempdf[1]/tempdf['total']*100\n",
    "tempdf"
   ]
  },
  {
   "cell_type": "markdown",
   "metadata": {},
   "source": [
    "\n",
    "> quanto mais a pessoa sabe ingles mais provavel dela gostar de jogar videogame"
   ]
  },
  {
   "cell_type": "markdown",
   "metadata": {},
   "source": [
    "### Olhando categoria de jogos"
   ]
  },
  {
   "cell_type": "code",
   "execution_count": 30,
   "metadata": {},
   "outputs": [
    {
     "name": "stdout",
     "output_type": "stream",
     "text": [
      "['Ação/Aventura', 'Estratégia', 'RPG', 'Simulação', 'FPS', 'Battle Royale', 'Corrida', 'Luta', 'Roguelike', 'Esporte', 'MOBA', 'Terror', 'OUTER WILDS', 'Sandbox', 'Jogos hype', 'Mundo aberto ', 'Visual Novels', 'ritmo', 'Cozinhar', 'Mostly multiplayer', 'Survival']\n",
      "[78, 52, 61, 38, 60, 21, 26, 27, 1, 23, 19, 21, 1, 1, 1, 1, 1, 1, 1, 1, 1]\n",
      "{'Ação/Aventura': 78, 'Estratégia': 52, 'RPG': 61, 'Simulação': 38, 'FPS': 60, 'Battle Royale': 21, 'Corrida': 26, 'Luta': 27, 'Esporte': 23, 'MOBA': 19, 'Terror': 21}\n"
     ]
    }
   ],
   "source": [
    "tempdf=data['fav_jogos']\n",
    "test=str(tempdf[1]).split(\";\")\n",
    "categorias=[]\n",
    "contar = []\n",
    "\n",
    "\n",
    "for string in tempdf:\n",
    "  escolhas_usuario = str(string).split(\";\")\n",
    "\n",
    "  for nova_categoria in escolhas_usuario:\n",
    "    if(nova_categoria!='-1'):         #exclue o nan\n",
    "      \n",
    "      # gambiarra estratégica\n",
    "      if(nova_categoria == 'Estrategia'):\n",
    "        nova_categoria = \"Estratégia\"\n",
    "\n",
    "      if(not(nova_categoria in categorias)):\n",
    "        categorias.append(nova_categoria)\n",
    "        contar.append(1)\n",
    "      else:\n",
    "        num=categorias.index(nova_categoria) #descobre a posicao da categoria\n",
    "        contar[num]+=1\n",
    "print(categorias)\n",
    "print(contar)\n",
    "\n",
    "\n",
    "\n",
    "zip_iterator = zip(categorias, contar)\n",
    "FavJogos = dict(zip_iterator)\n",
    "\n",
    "del(FavJogos['OUTER WILDS'])\n",
    "del(FavJogos['Sandbox'])\n",
    "del(FavJogos['Jogos hype'])\n",
    "del(FavJogos['Mundo aberto '])\n",
    "del(FavJogos['Mostly multiplayer'])\n",
    "del(FavJogos['ritmo'])\n",
    "del(FavJogos['Cozinhar'])\n",
    "del(FavJogos['Visual Novels'])\n",
    "del(FavJogos['Survival'])\n",
    "del(FavJogos['Roguelike'])\n",
    "\n",
    "print(FavJogos)"
   ]
  },
  {
   "cell_type": "markdown",
   "metadata": {},
   "source": [
    "### Plotando gráficos\n",
    "- conclusao (quant_jogos)"
   ]
  },
  {
   "cell_type": "code",
   "execution_count": 31,
   "metadata": {},
   "outputs": [
    {
     "data": {
      "text/plain": [
       "[Text(0.5, 1.0, 'assinatura')]"
      ]
     },
     "execution_count": 31,
     "metadata": {},
     "output_type": "execute_result"
    },
    {
     "data": {
      "image/png": "[encoded data removed]",
      "text/plain": [
       "<Figure size 432x288 with 1 Axes>"
      ]
     },
     "metadata": {
      "needs_background": "light"
     },
     "output_type": "display_data"
    }
   ],
   "source": [
    "sns.countplot(x='paga', data=data, hue='assina').set(title='assinatura')"
   ]
  },
  {
   "cell_type": "code",
   "execution_count": 32,
   "metadata": {},
   "outputs": [
    {
     "data": {
      "text/plain": [
       "[Text(0.5, 1.0, 'ingles_nivel')]"
      ]
     },
     "execution_count": 32,
     "metadata": {},
     "output_type": "execute_result"
    },
    {
     "data": {
      "image/png": "[encoded data removed]",
      "text/plain": [
       "<Figure size 432x288 with 1 Axes>"
      ]
     },
     "metadata": {
      "needs_background": "light"
     },
     "output_type": "display_data"
    }
   ],
   "source": [
    "\n",
    "sns.countplot(x='joga', data=data, hue='ingles').set(title='ingles_nivel')\n"
   ]
  },
  {
   "cell_type": "code",
   "execution_count": 33,
   "metadata": {},
   "outputs": [
    {
     "data": {
      "text/plain": [
       "[Text(0.5, 1.0, 'Quant_assina')]"
      ]
     },
     "execution_count": 33,
     "metadata": {},
     "output_type": "execute_result"
    },
    {
     "data": {
      "image/png": "[encoded data removed]",
      "text/plain": [
       "<Figure size 432x288 with 1 Axes>"
      ]
     },
     "metadata": {
      "needs_background": "light"
     },
     "output_type": "display_data"
    }
   ],
   "source": [
    "\n",
    "sns.countplot(x='quant_jogos', data=Emprego, hue='ocupacao').set(title='Quant_assina')\n",
    "#maioria dos consumidores sao estudantes\n"
   ]
  },
  {
   "cell_type": "markdown",
   "metadata": {},
   "source": [
    "> Estudantes compram mais jogos"
   ]
  },
  {
   "cell_type": "markdown",
   "metadata": {},
   "source": [
    "## Separando df para comparação\n",
    "- > editar\n",
    "- > conclusao (Gamer x Cringe)\n",
    "- GAMER\n",
    "- CRINGE\n",
    "- Assinante\n",
    "\n",
    "- - pergunta: olhar para os que gastam mais em jogos -> o que eles mais se importam, costumam assinar ? \n",
    "- - pergunta: qual o padrão dos gastos das pessoas\n",
    "- - obs: devemos ja ir anotando as conclusoes em outro arquivo"
   ]
  },
  {
   "cell_type": "markdown",
   "metadata": {},
   "source": [
    "##### Def ler data\n"
   ]
  },
  {
   "cell_type": "code",
   "execution_count": 34,
   "metadata": {},
   "outputs": [],
   "source": [
    "def lerCategoria(tempdf):\n",
    "    CategoriaJogos=[]\n",
    "    CategoriaJogosValor = []\n",
    "\n",
    "    for x in tempdf.index:\n",
    "        strCategoria = str(tempdf[x]).split(\";\")\n",
    "        for c in strCategoria:\n",
    "            if(not(c in CategoriaJogos)):\n",
    "                CategoriaJogos.append(c)\n",
    "                CategoriaJogosValor.append(1)\n",
    "            else:\n",
    "                CategoriaJogosValor[CategoriaJogos.index(c)] += 1\n",
    "    total=(sum(CategoriaJogosValor))\n",
    "    return(CategoriaJogos,CategoriaJogosValor,total)\n"
   ]
  },
  {
   "cell_type": "markdown",
   "metadata": {},
   "source": [
    "### Gamer x Cringe"
   ]
  },
  {
   "cell_type": "markdown",
   "metadata": {},
   "source": [
    "#### Data Gamer"
   ]
  },
  {
   "cell_type": "code",
   "execution_count": 35,
   "metadata": {},
   "outputs": [
    {
     "name": "stdout",
     "output_type": "stream",
     "text": [
      "True\n"
     ]
    },
    {
     "data": {
      "text/html": [
       "<div>\n",
       "<style scoped>\n",
       "    .dataframe tbody tr th:only-of-type {\n",
       "        vertical-align: middle;\n",
       "    }\n",
       "\n",
       "    .dataframe tbody tr th {\n",
       "        vertical-align: top;\n",
       "    }\n",
       "\n",
       "    .dataframe thead th {\n",
       "        text-align: right;\n",
       "    }\n",
       "</style>\n",
       "<table border=\"1\" class=\"dataframe\">\n",
       "  <thead>\n",
       "    <tr style=\"text-align: right;\">\n",
       "      <th></th>\n",
       "      <th>idade</th>\n",
       "      <th>genero</th>\n",
       "      <th>ocupacao</th>\n",
       "      <th>estado</th>\n",
       "      <th>ingles</th>\n",
       "      <th>filhos</th>\n",
       "      <th>joga</th>\n",
       "      <th>quant_jogos</th>\n",
       "      <th>fav_jogos</th>\n",
       "      <th>midia</th>\n",
       "      <th>importante_jogo</th>\n",
       "      <th>assina</th>\n",
       "      <th>quais</th>\n",
       "      <th>paga</th>\n",
       "      <th>count</th>\n",
       "    </tr>\n",
       "  </thead>\n",
       "  <tbody>\n",
       "    <tr>\n",
       "      <th>0</th>\n",
       "      <td>20</td>\n",
       "      <td>Feminino</td>\n",
       "      <td>Estudante</td>\n",
       "      <td>Solteira(o)</td>\n",
       "      <td>Fluente</td>\n",
       "      <td>0</td>\n",
       "      <td>1</td>\n",
       "      <td>0.0</td>\n",
       "      <td>Ação/Aventura</td>\n",
       "      <td>Mídia digital</td>\n",
       "      <td>Indiferente</td>\n",
       "      <td>0</td>\n",
       "      <td>-1</td>\n",
       "      <td>Não pagaria</td>\n",
       "      <td>1.0</td>\n",
       "    </tr>\n",
       "    <tr>\n",
       "      <th>1</th>\n",
       "      <td>20</td>\n",
       "      <td>Masculino</td>\n",
       "      <td>Estudante</td>\n",
       "      <td>Solteira(o)</td>\n",
       "      <td>Fluente</td>\n",
       "      <td>0</td>\n",
       "      <td>1</td>\n",
       "      <td>1.0</td>\n",
       "      <td>Ação/Aventura;Estratégia;RPG;Simulação</td>\n",
       "      <td>Mídia física</td>\n",
       "      <td>Desconto;Duração;Preço;Qualidade</td>\n",
       "      <td>0</td>\n",
       "      <td>-1</td>\n",
       "      <td>10 a 30</td>\n",
       "      <td>1.0</td>\n",
       "    </tr>\n",
       "    <tr>\n",
       "      <th>2</th>\n",
       "      <td>20</td>\n",
       "      <td>Feminino</td>\n",
       "      <td>Estudante</td>\n",
       "      <td>Solteira(o)</td>\n",
       "      <td>Intermediário</td>\n",
       "      <td>0</td>\n",
       "      <td>1</td>\n",
       "      <td>1.0</td>\n",
       "      <td>Ação/Aventura;FPS;Simulação</td>\n",
       "      <td>Indiferente</td>\n",
       "      <td>Duração;Preço;Qualidade</td>\n",
       "      <td>0</td>\n",
       "      <td>-1</td>\n",
       "      <td>10 a 30</td>\n",
       "      <td>1.0</td>\n",
       "    </tr>\n",
       "    <tr>\n",
       "      <th>3</th>\n",
       "      <td>20</td>\n",
       "      <td>Masculino</td>\n",
       "      <td>Estudante</td>\n",
       "      <td>Solteira(o)</td>\n",
       "      <td>Fluente</td>\n",
       "      <td>0</td>\n",
       "      <td>1</td>\n",
       "      <td>3.0</td>\n",
       "      <td>Ação/Aventura;Battle Royale;Corrida;Luta;RPG;S...</td>\n",
       "      <td>Indiferente</td>\n",
       "      <td>Desconto;Preço;Qualidade</td>\n",
       "      <td>1</td>\n",
       "      <td>Game Pass;Prime gaming, epic games (não é pago...</td>\n",
       "      <td>10 a 30</td>\n",
       "      <td>1.0</td>\n",
       "    </tr>\n",
       "    <tr>\n",
       "      <th>4</th>\n",
       "      <td>15</td>\n",
       "      <td>Masculino</td>\n",
       "      <td>Estudante</td>\n",
       "      <td>Casada(o)</td>\n",
       "      <td>Avançado</td>\n",
       "      <td>1</td>\n",
       "      <td>1</td>\n",
       "      <td>0.0</td>\n",
       "      <td>Estratégia;RPG</td>\n",
       "      <td>Indiferente</td>\n",
       "      <td>Desconto;Preço;Qualidade</td>\n",
       "      <td>1</td>\n",
       "      <td>Game Pass</td>\n",
       "      <td>30 a 50</td>\n",
       "      <td>1.0</td>\n",
       "    </tr>\n",
       "  </tbody>\n",
       "</table>\n",
       "</div>"
      ],
      "text/plain": [
       "   idade     genero   ocupacao       estado         ingles  filhos  joga  \\\n",
       "0     20   Feminino  Estudante  Solteira(o)        Fluente       0     1   \n",
       "1     20  Masculino  Estudante  Solteira(o)        Fluente       0     1   \n",
       "2     20   Feminino  Estudante  Solteira(o)  Intermediário       0     1   \n",
       "3     20  Masculino  Estudante  Solteira(o)        Fluente       0     1   \n",
       "4     15  Masculino  Estudante    Casada(o)       Avançado       1     1   \n",
       "\n",
       "   quant_jogos                                          fav_jogos  \\\n",
       "0          0.0                                      Ação/Aventura   \n",
       "1          1.0             Ação/Aventura;Estratégia;RPG;Simulação   \n",
       "2          1.0                        Ação/Aventura;FPS;Simulação   \n",
       "3          3.0  Ação/Aventura;Battle Royale;Corrida;Luta;RPG;S...   \n",
       "4          0.0                                     Estratégia;RPG   \n",
       "\n",
       "           midia                   importante_jogo  assina  \\\n",
       "0  Mídia digital                       Indiferente       0   \n",
       "1   Mídia física  Desconto;Duração;Preço;Qualidade       0   \n",
       "2    Indiferente           Duração;Preço;Qualidade       0   \n",
       "3    Indiferente          Desconto;Preço;Qualidade       1   \n",
       "4    Indiferente          Desconto;Preço;Qualidade       1   \n",
       "\n",
       "                                               quais         paga  count  \n",
       "0                                                 -1  Não pagaria    1.0  \n",
       "1                                                 -1      10 a 30    1.0  \n",
       "2                                                 -1      10 a 30    1.0  \n",
       "3  Game Pass;Prime gaming, epic games (não é pago...      10 a 30    1.0  \n",
       "4                                          Game Pass      30 a 50    1.0  "
      ]
     },
     "execution_count": 35,
     "metadata": {},
     "output_type": "execute_result"
    }
   ],
   "source": [
    "\n",
    "dataGAMER=data\n",
    "dataGAMER=dataGAMER.drop(dataGAMER[dataGAMER.joga==0].index)\n",
    "print((dataGAMER['joga'].mean())==1)\n",
    "dataGAMER.head()\n"
   ]
  },
  {
   "cell_type": "markdown",
   "metadata": {},
   "source": [
    "#### Data Cringe"
   ]
  },
  {
   "cell_type": "code",
   "execution_count": 36,
   "metadata": {},
   "outputs": [
    {
     "name": "stdout",
     "output_type": "stream",
     "text": [
      "True\n"
     ]
    },
    {
     "data": {
      "text/html": [
       "<div>\n",
       "<style scoped>\n",
       "    .dataframe tbody tr th:only-of-type {\n",
       "        vertical-align: middle;\n",
       "    }\n",
       "\n",
       "    .dataframe tbody tr th {\n",
       "        vertical-align: top;\n",
       "    }\n",
       "\n",
       "    .dataframe thead th {\n",
       "        text-align: right;\n",
       "    }\n",
       "</style>\n",
       "<table border=\"1\" class=\"dataframe\">\n",
       "  <thead>\n",
       "    <tr style=\"text-align: right;\">\n",
       "      <th></th>\n",
       "      <th>idade</th>\n",
       "      <th>genero</th>\n",
       "      <th>ocupacao</th>\n",
       "      <th>estado</th>\n",
       "      <th>ingles</th>\n",
       "      <th>filhos</th>\n",
       "      <th>joga</th>\n",
       "      <th>quant_jogos</th>\n",
       "      <th>fav_jogos</th>\n",
       "      <th>midia</th>\n",
       "      <th>importante_jogo</th>\n",
       "      <th>assina</th>\n",
       "      <th>quais</th>\n",
       "      <th>paga</th>\n",
       "      <th>count</th>\n",
       "    </tr>\n",
       "  </thead>\n",
       "  <tbody>\n",
       "    <tr>\n",
       "      <th>5</th>\n",
       "      <td>55</td>\n",
       "      <td>Feminino</td>\n",
       "      <td>Desempregado</td>\n",
       "      <td>Casada(o)</td>\n",
       "      <td>Intermediário</td>\n",
       "      <td>1</td>\n",
       "      <td>0</td>\n",
       "      <td>-1.0</td>\n",
       "      <td>-1</td>\n",
       "      <td>-1</td>\n",
       "      <td>-1</td>\n",
       "      <td>-1</td>\n",
       "      <td>-1</td>\n",
       "      <td>-1</td>\n",
       "      <td>1.0</td>\n",
       "    </tr>\n",
       "    <tr>\n",
       "      <th>6</th>\n",
       "      <td>21</td>\n",
       "      <td>Masculino</td>\n",
       "      <td>Estudante</td>\n",
       "      <td>Solteira(o)</td>\n",
       "      <td>Básico</td>\n",
       "      <td>0</td>\n",
       "      <td>0</td>\n",
       "      <td>-1.0</td>\n",
       "      <td>-1</td>\n",
       "      <td>-1</td>\n",
       "      <td>-1</td>\n",
       "      <td>-1</td>\n",
       "      <td>-1</td>\n",
       "      <td>-1</td>\n",
       "      <td>1.0</td>\n",
       "    </tr>\n",
       "    <tr>\n",
       "      <th>7</th>\n",
       "      <td>19</td>\n",
       "      <td>Masculino</td>\n",
       "      <td>Estudante</td>\n",
       "      <td>Solteira(o)</td>\n",
       "      <td>Intermediário</td>\n",
       "      <td>0</td>\n",
       "      <td>0</td>\n",
       "      <td>-1.0</td>\n",
       "      <td>-1</td>\n",
       "      <td>-1</td>\n",
       "      <td>-1</td>\n",
       "      <td>-1</td>\n",
       "      <td>-1</td>\n",
       "      <td>-1</td>\n",
       "      <td>1.0</td>\n",
       "    </tr>\n",
       "    <tr>\n",
       "      <th>34</th>\n",
       "      <td>16</td>\n",
       "      <td>Masculino</td>\n",
       "      <td>Estudante</td>\n",
       "      <td>Solteira(o)</td>\n",
       "      <td>Avançado</td>\n",
       "      <td>0</td>\n",
       "      <td>0</td>\n",
       "      <td>-1.0</td>\n",
       "      <td>-1</td>\n",
       "      <td>-1</td>\n",
       "      <td>-1</td>\n",
       "      <td>-1</td>\n",
       "      <td>-1</td>\n",
       "      <td>-1</td>\n",
       "      <td>1.0</td>\n",
       "    </tr>\n",
       "    <tr>\n",
       "      <th>35</th>\n",
       "      <td>19</td>\n",
       "      <td>Masculino</td>\n",
       "      <td>Estudante</td>\n",
       "      <td>Solteira(o)</td>\n",
       "      <td>Fluente</td>\n",
       "      <td>0</td>\n",
       "      <td>0</td>\n",
       "      <td>-1.0</td>\n",
       "      <td>-1</td>\n",
       "      <td>-1</td>\n",
       "      <td>-1</td>\n",
       "      <td>-1</td>\n",
       "      <td>-1</td>\n",
       "      <td>-1</td>\n",
       "      <td>1.0</td>\n",
       "    </tr>\n",
       "  </tbody>\n",
       "</table>\n",
       "</div>"
      ],
      "text/plain": [
       "    idade     genero      ocupacao       estado         ingles  filhos  joga  \\\n",
       "5      55   Feminino  Desempregado    Casada(o)  Intermediário       1     0   \n",
       "6      21  Masculino     Estudante  Solteira(o)         Básico       0     0   \n",
       "7      19  Masculino     Estudante  Solteira(o)  Intermediário       0     0   \n",
       "34     16  Masculino     Estudante  Solteira(o)       Avançado       0     0   \n",
       "35     19  Masculino     Estudante  Solteira(o)        Fluente       0     0   \n",
       "\n",
       "    quant_jogos fav_jogos midia importante_jogo  assina quais paga  count  \n",
       "5          -1.0        -1    -1              -1      -1    -1   -1    1.0  \n",
       "6          -1.0        -1    -1              -1      -1    -1   -1    1.0  \n",
       "7          -1.0        -1    -1              -1      -1    -1   -1    1.0  \n",
       "34         -1.0        -1    -1              -1      -1    -1   -1    1.0  \n",
       "35         -1.0        -1    -1              -1      -1    -1   -1    1.0  "
      ]
     },
     "execution_count": 36,
     "metadata": {},
     "output_type": "execute_result"
    }
   ],
   "source": [
    "dataCRINGE=data\n",
    "dataCRINGE=dataCRINGE.drop(dataCRINGE[dataCRINGE.joga==1].index)\n",
    "print((dataCRINGE['joga'].mean())==0)\n",
    "dataCRINGE.head()"
   ]
  },
  {
   "cell_type": "markdown",
   "metadata": {},
   "source": [
    "#### Plotando Gamer x Cringe"
   ]
  },
  {
   "cell_type": "markdown",
   "metadata": {},
   "source": [
    " - idade n_joga = velhos\n",
    " - mais homens jogam\n",
    " - mais estudantes jogam\n",
    " - mais jovens jogam\n",
    " - mais velhos n_jogam\n",
    " - ingles afeta se a pessoa vai jogar ou nao (melhor mais provavel de jogar) "
   ]
  },
  {
   "cell_type": "code",
   "execution_count": 37,
   "metadata": {},
   "outputs": [
    {
     "data": {
      "image/png": "[encoded data removed]",
      "text/plain": [
       "<Figure size 1440x360 with 1 Axes>"
      ]
     },
     "metadata": {
      "needs_background": "light"
     },
     "output_type": "display_data"
    },
    {
     "data": {
      "image/png": "[encoded data removed]",
      "text/plain": [
       "<Figure size 1440x360 with 1 Axes>"
      ]
     },
     "metadata": {
      "needs_background": "light"
     },
     "output_type": "display_data"
    },
    {
     "data": {
      "image/png": "[encoded data removed]",
      "text/plain": [
       "<Figure size 1440x360 with 1 Axes>"
      ]
     },
     "metadata": {
      "needs_background": "light"
     },
     "output_type": "display_data"
    },
    {
     "data": {
      "image/png": "[encoded data removed]",
      "text/plain": [
       "<Figure size 1440x360 with 1 Axes>"
      ]
     },
     "metadata": {
      "needs_background": "light"
     },
     "output_type": "display_data"
    },
    {
     "data": {
      "image/png": "[encoded data removed]",
      "text/plain": [
       "<Figure size 1440x360 with 1 Axes>"
      ]
     },
     "metadata": {
      "needs_background": "light"
     },
     "output_type": "display_data"
    },
    {
     "data": {
      "image/png": "[encoded data removed]",
      "text/plain": [
       "<Figure size 1440x360 with 1 Axes>"
      ]
     },
     "metadata": {
      "needs_background": "light"
     },
     "output_type": "display_data"
    },
    {
     "data": {
      "image/png": "[encoded data removed]",
      "text/plain": [
       "<Figure size 1440x360 with 1 Axes>"
      ]
     },
     "metadata": {
      "needs_background": "light"
     },
     "output_type": "display_data"
    },
    {
     "data": {
      "image/png": "[encoded data removed]",
      "text/plain": [
       "<Figure size 1440x360 with 1 Axes>"
      ]
     },
     "metadata": {
      "needs_background": "light"
     },
     "output_type": "display_data"
    },
    {
     "data": {
      "image/png": "[encoded data removed]",
      "text/plain": [
       "<Figure size 1440x360 with 1 Axes>"
      ]
     },
     "metadata": {
      "needs_background": "light"
     },
     "output_type": "display_data"
    },
    {
     "data": {
      "image/png": "[encoded data removed]",
      "text/plain": [
       "<Figure size 1440x360 with 1 Axes>"
      ]
     },
     "metadata": {
      "needs_background": "light"
     },
     "output_type": "display_data"
    }
   ],
   "source": [
    "for c in categorias2:\n",
    "    plot_bar(dataCRINGE,c,\"n_joga\")\n",
    "    plot_bar(dataGAMER,c,\"joga\")\n",
    "#mais homens jogam\n",
    "#mais estudantes jogam\n",
    "#mais jovens jogam\n",
    "#mais velhos n_jogam\n",
    "#ingles afeta se a pessoa vai jogar ou nao (melhor mais provavel de jogar)"
   ]
  },
  {
   "cell_type": "code",
   "execution_count": 38,
   "metadata": {},
   "outputs": [
    {
     "data": {
      "image/png": "[encoded data removed]",
      "text/plain": [
       "<Figure size 648x360 with 1 Axes>"
      ]
     },
     "metadata": {
      "needs_background": "light"
     },
     "output_type": "display_data"
    },
    {
     "data": {
      "image/png": "[encoded data removed]",
      "text/plain": [
       "<Figure size 648x360 with 1 Axes>"
      ]
     },
     "metadata": {
      "needs_background": "light"
     },
     "output_type": "display_data"
    }
   ],
   "source": [
    "for c in categorias0:\n",
    "    plot_hist(dataCRINGE,c,\"n_joga\")\n",
    "    plot_hist(dataGAMER,c,\"joga\")\n",
    "\n",
    "#idade n_joga = velhos"
   ]
  },
  {
   "cell_type": "markdown",
   "metadata": {},
   "source": [
    "### Assinante x Não Assinante (categoria jogos)"
   ]
  },
  {
   "cell_type": "markdown",
   "metadata": {},
   "source": [
    "#### Data Assinante"
   ]
  },
  {
   "cell_type": "code",
   "execution_count": 39,
   "metadata": {},
   "outputs": [],
   "source": [
    "dataAssinantes = data\n",
    "dataAssinantes = dataAssinantes.drop(dataAssinantes[dataAssinantes.assina == 0].index)\n",
    "dataAssinantes = dataAssinantes.drop(dataAssinantes[dataAssinantes.quais == -1].index)\n",
    "dataAssinantes.dropna(subset = [\"assina\"], inplace=True)\n",
    "\n",
    "DataAssinamCategoria = dataAssinantes['fav_jogos']\n",
    "tempdf = DataAssinamCategoria"
   ]
  },
  {
   "cell_type": "markdown",
   "metadata": {},
   "source": [
    "#### Conta as categorias dos assinantes e transforma em 2 vetores"
   ]
  },
  {
   "cell_type": "code",
   "execution_count": 40,
   "metadata": {},
   "outputs": [],
   "source": [
    "cat=lerCategoria(tempdf)\n",
    "CategoriaJogos=cat[0]\n",
    "CategoriaJogosValor=cat[1]\n",
    "total=cat[2]\n",
    "\n",
    "MaioresValores = []\n",
    "MaioresCategorias = []\n",
    "\n",
    "for i in range(10):\n",
    "    \n",
    "    IndiceMaiorValor = CategoriaJogosValor.index(max(CategoriaJogosValor))\n",
    "    MaioresValores.append(int(CategoriaJogosValor.pop(IndiceMaiorValor))) \n",
    "    MaioresCategorias.append(CategoriaJogos.pop(IndiceMaiorValor))\n",
    "MaioresValores=np.divide(MaioresValores,total)*100"
   ]
  },
  {
   "cell_type": "markdown",
   "metadata": {},
   "source": [
    "  ```print(\"%d %s \\n\" % (MaioresValores[i],MaioresCategorias[i]))```"
   ]
  },
  {
   "cell_type": "markdown",
   "metadata": {},
   "source": [
    "#### Plotando Categorias favorita dos Assinantes"
   ]
  },
  {
   "cell_type": "code",
   "execution_count": 41,
   "metadata": {},
   "outputs": [
    {
     "name": "stderr",
     "output_type": "stream",
     "text": [
      "c:\\Program Files\\Python310\\lib\\site-packages\\seaborn\\_decorators.py:36: FutureWarning:\n",
      "\n",
      "Pass the following variables as keyword args: x, y. From version 0.12, the only valid positional argument will be `data`, and passing other arguments without an explicit keyword will result in an error or misinterpretation.\n",
      "\n"
     ]
    },
    {
     "data": {
      "image/png": "[encoded data removed]",
      "text/plain": [
       "<Figure size 1440x720 with 1 Axes>"
      ]
     },
     "metadata": {},
     "output_type": "display_data"
    }
   ],
   "source": [
    "sns.set(rc = {'figure.figsize':(20,10)},font_scale=1.6,style=\"whitegrid\")\n",
    "plt.title(\"Top 10 Categorias de Assinantes\",weight=\"bold\").set_fontsize('30')\n",
    "sns.barplot(MaioresCategorias, MaioresValores, palette=\"rainbow_d\")\n",
    "\n",
    "plt.show()"
   ]
  },
  {
   "cell_type": "markdown",
   "metadata": {},
   "source": [
    "#### Data Não Assinante"
   ]
  },
  {
   "cell_type": "code",
   "execution_count": 42,
   "metadata": {},
   "outputs": [
    {
     "name": "stdout",
     "output_type": "stream",
     "text": [
      "True\n"
     ]
    },
    {
     "data": {
      "text/html": [
       "<div>\n",
       "<style scoped>\n",
       "    .dataframe tbody tr th:only-of-type {\n",
       "        vertical-align: middle;\n",
       "    }\n",
       "\n",
       "    .dataframe tbody tr th {\n",
       "        vertical-align: top;\n",
       "    }\n",
       "\n",
       "    .dataframe thead th {\n",
       "        text-align: right;\n",
       "    }\n",
       "</style>\n",
       "<table border=\"1\" class=\"dataframe\">\n",
       "  <thead>\n",
       "    <tr style=\"text-align: right;\">\n",
       "      <th></th>\n",
       "      <th>idade</th>\n",
       "      <th>genero</th>\n",
       "      <th>ocupacao</th>\n",
       "      <th>estado</th>\n",
       "      <th>ingles</th>\n",
       "      <th>filhos</th>\n",
       "      <th>joga</th>\n",
       "      <th>quant_jogos</th>\n",
       "      <th>fav_jogos</th>\n",
       "      <th>midia</th>\n",
       "      <th>importante_jogo</th>\n",
       "      <th>assina</th>\n",
       "      <th>quais</th>\n",
       "      <th>paga</th>\n",
       "      <th>count</th>\n",
       "    </tr>\n",
       "  </thead>\n",
       "  <tbody>\n",
       "    <tr>\n",
       "      <th>0</th>\n",
       "      <td>20</td>\n",
       "      <td>Feminino</td>\n",
       "      <td>Estudante</td>\n",
       "      <td>Solteira(o)</td>\n",
       "      <td>Fluente</td>\n",
       "      <td>0</td>\n",
       "      <td>1</td>\n",
       "      <td>0.0</td>\n",
       "      <td>Ação/Aventura</td>\n",
       "      <td>Mídia digital</td>\n",
       "      <td>Indiferente</td>\n",
       "      <td>0</td>\n",
       "      <td>-1</td>\n",
       "      <td>Não pagaria</td>\n",
       "      <td>1.0</td>\n",
       "    </tr>\n",
       "    <tr>\n",
       "      <th>1</th>\n",
       "      <td>20</td>\n",
       "      <td>Masculino</td>\n",
       "      <td>Estudante</td>\n",
       "      <td>Solteira(o)</td>\n",
       "      <td>Fluente</td>\n",
       "      <td>0</td>\n",
       "      <td>1</td>\n",
       "      <td>1.0</td>\n",
       "      <td>Ação/Aventura;Estratégia;RPG;Simulação</td>\n",
       "      <td>Mídia física</td>\n",
       "      <td>Desconto;Duração;Preço;Qualidade</td>\n",
       "      <td>0</td>\n",
       "      <td>-1</td>\n",
       "      <td>10 a 30</td>\n",
       "      <td>1.0</td>\n",
       "    </tr>\n",
       "    <tr>\n",
       "      <th>2</th>\n",
       "      <td>20</td>\n",
       "      <td>Feminino</td>\n",
       "      <td>Estudante</td>\n",
       "      <td>Solteira(o)</td>\n",
       "      <td>Intermediário</td>\n",
       "      <td>0</td>\n",
       "      <td>1</td>\n",
       "      <td>1.0</td>\n",
       "      <td>Ação/Aventura;FPS;Simulação</td>\n",
       "      <td>Indiferente</td>\n",
       "      <td>Duração;Preço;Qualidade</td>\n",
       "      <td>0</td>\n",
       "      <td>-1</td>\n",
       "      <td>10 a 30</td>\n",
       "      <td>1.0</td>\n",
       "    </tr>\n",
       "    <tr>\n",
       "      <th>8</th>\n",
       "      <td>20</td>\n",
       "      <td>Masculino</td>\n",
       "      <td>Estudante</td>\n",
       "      <td>Solteira(o)</td>\n",
       "      <td>Intermediário</td>\n",
       "      <td>0</td>\n",
       "      <td>1</td>\n",
       "      <td>3.0</td>\n",
       "      <td>Estratégia;RPG;Simulação;Roguelike</td>\n",
       "      <td>Mídia digital</td>\n",
       "      <td>Qualidade</td>\n",
       "      <td>0</td>\n",
       "      <td>-1</td>\n",
       "      <td>10 a 30</td>\n",
       "      <td>1.0</td>\n",
       "    </tr>\n",
       "    <tr>\n",
       "      <th>9</th>\n",
       "      <td>21</td>\n",
       "      <td>Masculino</td>\n",
       "      <td>Estudante</td>\n",
       "      <td>Solteira(o)</td>\n",
       "      <td>Fluente</td>\n",
       "      <td>0</td>\n",
       "      <td>1</td>\n",
       "      <td>0.0</td>\n",
       "      <td>Estratégia;RPG</td>\n",
       "      <td>Mídia digital</td>\n",
       "      <td>Qualidade</td>\n",
       "      <td>0</td>\n",
       "      <td>-1</td>\n",
       "      <td>10 a 30</td>\n",
       "      <td>1.0</td>\n",
       "    </tr>\n",
       "  </tbody>\n",
       "</table>\n",
       "</div>"
      ],
      "text/plain": [
       "   idade     genero   ocupacao       estado         ingles  filhos  joga  \\\n",
       "0     20   Feminino  Estudante  Solteira(o)        Fluente       0     1   \n",
       "1     20  Masculino  Estudante  Solteira(o)        Fluente       0     1   \n",
       "2     20   Feminino  Estudante  Solteira(o)  Intermediário       0     1   \n",
       "8     20  Masculino  Estudante  Solteira(o)  Intermediário       0     1   \n",
       "9     21  Masculino  Estudante  Solteira(o)        Fluente       0     1   \n",
       "\n",
       "   quant_jogos                               fav_jogos          midia  \\\n",
       "0          0.0                           Ação/Aventura  Mídia digital   \n",
       "1          1.0  Ação/Aventura;Estratégia;RPG;Simulação   Mídia física   \n",
       "2          1.0             Ação/Aventura;FPS;Simulação    Indiferente   \n",
       "8          3.0      Estratégia;RPG;Simulação;Roguelike  Mídia digital   \n",
       "9          0.0                          Estratégia;RPG  Mídia digital   \n",
       "\n",
       "                    importante_jogo  assina quais         paga  count  \n",
       "0                       Indiferente       0    -1  Não pagaria    1.0  \n",
       "1  Desconto;Duração;Preço;Qualidade       0    -1      10 a 30    1.0  \n",
       "2           Duração;Preço;Qualidade       0    -1      10 a 30    1.0  \n",
       "8                         Qualidade       0    -1      10 a 30    1.0  \n",
       "9                         Qualidade       0    -1      10 a 30    1.0  "
      ]
     },
     "execution_count": 42,
     "metadata": {},
     "output_type": "execute_result"
    }
   ],
   "source": [
    "\n",
    "\n",
    "dataBatman = data #nao assinantes jogam\n",
    "dataBatman = dataBatman.drop(dataBatman[dataBatman.assina == 1].index)\n",
    "dataBatman = dataBatman.drop(dataBatman[dataBatman.assina == -1].index)\n",
    "print((dataBatman['assina'].mean())==0)\n",
    "tempdf=dataBatman['fav_jogos']\n",
    "dataBatman.head()"
   ]
  },
  {
   "cell_type": "markdown",
   "metadata": {},
   "source": [
    "#### Contando as categorias"
   ]
  },
  {
   "cell_type": "code",
   "execution_count": 43,
   "metadata": {},
   "outputs": [],
   "source": [
    "cat=lerCategoria(tempdf)\n",
    "CategoriaJogos=cat[0]\n",
    "CategoriaJogosValor=cat[1]\n",
    "total=cat[2]\n",
    "\n",
    "MaioresValores = []\n",
    "MaioresCategorias = []\n",
    "\n",
    "for i in range(10):\n",
    "    \n",
    "    IndiceMaiorValor = CategoriaJogosValor.index(max(CategoriaJogosValor))\n",
    "    MaioresValores.append(int(CategoriaJogosValor.pop(IndiceMaiorValor))) \n",
    "    MaioresCategorias.append(CategoriaJogos.pop(IndiceMaiorValor))\n",
    "MaioresValores=np.divide(MaioresValores,total)*100"
   ]
  },
  {
   "cell_type": "markdown",
   "metadata": {},
   "source": [
    "#### Grafico NAO Assinante"
   ]
  },
  {
   "cell_type": "code",
   "execution_count": 44,
   "metadata": {},
   "outputs": [
    {
     "name": "stderr",
     "output_type": "stream",
     "text": [
      "c:\\Program Files\\Python310\\lib\\site-packages\\seaborn\\_decorators.py:36: FutureWarning:\n",
      "\n",
      "Pass the following variables as keyword args: x, y. From version 0.12, the only valid positional argument will be `data`, and passing other arguments without an explicit keyword will result in an error or misinterpretation.\n",
      "\n"
     ]
    },
    {
     "data": {
      "image/png": "[encoded data removed]",
      "text/plain": [
       "<Figure size 1440x720 with 1 Axes>"
      ]
     },
     "metadata": {},
     "output_type": "display_data"
    }
   ],
   "source": [
    "sns.set(rc = {'figure.figsize':(20,10)},font_scale=1.6,style=\"whitegrid\")\n",
    "plt.title(\"Top 10 Categorias de NÃO Assinantes\",weight=\"bold\").set_fontsize('30')\n",
    "sns.barplot(MaioresCategorias, MaioresValores, palette=\"rainbow_r\")\n",
    "\n",
    "plt.show()"
   ]
  },
  {
   "cell_type": "markdown",
   "metadata": {},
   "source": [
    "Todos gostam + - dos mesmos estilos (5 primeiros sao iguais)"
   ]
  },
  {
   "cell_type": "markdown",
   "metadata": {},
   "source": [
    "### Assinante x Não Assinante (criterio jogos)\n"
   ]
  },
  {
   "cell_type": "code",
   "execution_count": 45,
   "metadata": {},
   "outputs": [
    {
     "data": {
      "text/html": [
       "<div>\n",
       "<style scoped>\n",
       "    .dataframe tbody tr th:only-of-type {\n",
       "        vertical-align: middle;\n",
       "    }\n",
       "\n",
       "    .dataframe tbody tr th {\n",
       "        vertical-align: top;\n",
       "    }\n",
       "\n",
       "    .dataframe thead th {\n",
       "        text-align: right;\n",
       "    }\n",
       "</style>\n",
       "<table border=\"1\" class=\"dataframe\">\n",
       "  <thead>\n",
       "    <tr style=\"text-align: right;\">\n",
       "      <th></th>\n",
       "      <th>count</th>\n",
       "      <th>unique</th>\n",
       "      <th>top</th>\n",
       "      <th>freq</th>\n",
       "    </tr>\n",
       "    <tr>\n",
       "      <th>assina</th>\n",
       "      <th></th>\n",
       "      <th></th>\n",
       "      <th></th>\n",
       "      <th></th>\n",
       "    </tr>\n",
       "  </thead>\n",
       "  <tbody>\n",
       "    <tr>\n",
       "      <th>0</th>\n",
       "      <td>59</td>\n",
       "      <td>12</td>\n",
       "      <td>Desconto;Preço;Qualidade</td>\n",
       "      <td>14</td>\n",
       "    </tr>\n",
       "    <tr>\n",
       "      <th>1</th>\n",
       "      <td>59</td>\n",
       "      <td>12</td>\n",
       "      <td>Preço;Qualidade</td>\n",
       "      <td>14</td>\n",
       "    </tr>\n",
       "  </tbody>\n",
       "</table>\n",
       "</div>"
      ],
      "text/plain": [
       "       count unique                       top freq\n",
       "assina                                            \n",
       "0         59     12  Desconto;Preço;Qualidade   14\n",
       "1         59     12           Preço;Qualidade   14"
      ]
     },
     "execution_count": 45,
     "metadata": {},
     "output_type": "execute_result"
    }
   ],
   "source": [
    "\n",
    "\n",
    "\n",
    "tempdf=dataGAMER[['importante_jogo','assina']]\n",
    "tempdf.head()\n",
    "tempdf.groupby(['assina']).importante_jogo.describe()"
   ]
  },
  {
   "cell_type": "code",
   "execution_count": 46,
   "metadata": {},
   "outputs": [],
   "source": [
    "nassina = tempdf.drop(tempdf[tempdf.assina == 1].index)\n",
    "assina =    tempdf.drop(tempdf[tempdf.assina == 0].index)"
   ]
  },
  {
   "cell_type": "code",
   "execution_count": 47,
   "metadata": {},
   "outputs": [],
   "source": [
    "cat=lerCategoria(assina['importante_jogo'])\n",
    "CategoriaJogos=cat[0]\n",
    "CategoriaJogosValor=cat[1]\n",
    "total=cat[2]\n",
    "\n",
    "MaioresValores = []\n",
    "MaioresCategorias = []\n",
    "\n",
    "for i in range(5):\n",
    "\n",
    "    IndiceMaiorValor = CategoriaJogosValor.index(max(CategoriaJogosValor))\n",
    "    MaioresValores.append(int(CategoriaJogosValor.pop(IndiceMaiorValor))) \n",
    "    MaioresCategorias.append(CategoriaJogos.pop(IndiceMaiorValor))\n",
    "MaioresCategorias\n",
    "MaioresValores=MaioresValores"
   ]
  },
  {
   "cell_type": "code",
   "execution_count": 48,
   "metadata": {},
   "outputs": [],
   "source": [
    "catn=lerCategoria(nassina['importante_jogo'])\n",
    "nCategoriaJogos=catn[0]\n",
    "nCategoriaJogosValor=catn[1]\n",
    "ntotal=catn[2]\n",
    "\n",
    "nMaioresValores = []\n",
    "nMaioresCategorias = []\n",
    "\n",
    "for i in range(5):\n",
    "\n",
    "    nIndiceMaiorValor = nCategoriaJogosValor.index(max(nCategoriaJogosValor))\n",
    "    nMaioresValores.append(int(nCategoriaJogosValor.pop(nIndiceMaiorValor))) \n",
    "    nMaioresCategorias.append(nCategoriaJogos.pop(nIndiceMaiorValor))\n",
    "nMaioresCategorias\n",
    "nMaioresValores=nMaioresValores"
   ]
  },
  {
   "cell_type": "markdown",
   "metadata": {},
   "source": [
    "#### Plot Gráfico\n",
    "> Conglusao"
   ]
  },
  {
   "cell_type": "code",
   "execution_count": 49,
   "metadata": {},
   "outputs": [],
   "source": [
    "dataassinaturas = pd.DataFrame({\n",
    "   'nao assina': nMaioresValores,\n",
    "   'assina': MaioresValores\n",
    "   }, index=MaioresCategorias)\n",
    "dataassinaturas=dataassinaturas.T"
   ]
  },
  {
   "cell_type": "markdown",
   "metadata": {},
   "source": [
    "> As pessoas presam pela mesmas coisas principalmente qualidade e preço"
   ]
  },
  {
   "cell_type": "code",
   "execution_count": 50,
   "metadata": {},
   "outputs": [
    {
     "data": {
      "text/plain": [
       "<AxesSubplot:>"
      ]
     },
     "execution_count": 50,
     "metadata": {},
     "output_type": "execute_result"
    },
    {
     "data": {
      "image/png": "[encoded data removed]",
      "text/plain": [
       "<Figure size 1440x720 with 2 Axes>"
      ]
     },
     "metadata": {},
     "output_type": "display_data"
    }
   ],
   "source": [
    "sns.heatmap(dataassinaturas,linewidths=0.1, annot=True,cmap=\"YlGnBu\")\n",
    "\n",
    "#as pessoas "
   ]
  },
  {
   "cell_type": "markdown",
   "metadata": {},
   "source": [
    "### Gastos"
   ]
  },
  {
   "cell_type": "code",
   "execution_count": 51,
   "metadata": {},
   "outputs": [
    {
     "data": {
      "text/html": [
       "<div>\n",
       "<style scoped>\n",
       "    .dataframe tbody tr th:only-of-type {\n",
       "        vertical-align: middle;\n",
       "    }\n",
       "\n",
       "    .dataframe tbody tr th {\n",
       "        vertical-align: top;\n",
       "    }\n",
       "\n",
       "    .dataframe thead th {\n",
       "        text-align: right;\n",
       "    }\n",
       "</style>\n",
       "<table border=\"1\" class=\"dataframe\">\n",
       "  <thead>\n",
       "    <tr style=\"text-align: right;\">\n",
       "      <th></th>\n",
       "      <th>idade</th>\n",
       "      <th>genero</th>\n",
       "      <th>ocupacao</th>\n",
       "      <th>estado</th>\n",
       "      <th>ingles</th>\n",
       "      <th>filhos</th>\n",
       "      <th>joga</th>\n",
       "      <th>quant_jogos</th>\n",
       "      <th>fav_jogos</th>\n",
       "      <th>midia</th>\n",
       "      <th>importante_jogo</th>\n",
       "      <th>assina</th>\n",
       "      <th>quais</th>\n",
       "      <th>paga</th>\n",
       "      <th>count</th>\n",
       "    </tr>\n",
       "  </thead>\n",
       "  <tbody>\n",
       "    <tr>\n",
       "      <th>0</th>\n",
       "      <td>20</td>\n",
       "      <td>Feminino</td>\n",
       "      <td>Estudante</td>\n",
       "      <td>Solteira(o)</td>\n",
       "      <td>Fluente</td>\n",
       "      <td>0</td>\n",
       "      <td>1</td>\n",
       "      <td>0.0</td>\n",
       "      <td>Ação/Aventura</td>\n",
       "      <td>Mídia digital</td>\n",
       "      <td>Indiferente</td>\n",
       "      <td>0</td>\n",
       "      <td>-1</td>\n",
       "      <td>Não pagaria</td>\n",
       "      <td>1.0</td>\n",
       "    </tr>\n",
       "  </tbody>\n",
       "</table>\n",
       "</div>"
      ],
      "text/plain": [
       "   idade    genero   ocupacao       estado   ingles  filhos  joga  \\\n",
       "0     20  Feminino  Estudante  Solteira(o)  Fluente       0     1   \n",
       "\n",
       "   quant_jogos      fav_jogos          midia importante_jogo  assina quais  \\\n",
       "0          0.0  Ação/Aventura  Mídia digital     Indiferente       0    -1   \n",
       "\n",
       "          paga  count  \n",
       "0  Não pagaria    1.0  "
      ]
     },
     "execution_count": 51,
     "metadata": {},
     "output_type": "execute_result"
    }
   ],
   "source": [
    "data.head(1)"
   ]
  },
  {
   "cell_type": "code",
   "execution_count": 85,
   "metadata": {},
   "outputs": [
    {
     "data": {
      "text/plain": [
       "paga           quais                                                                  \n",
       "-1             -1                                                                          1\n",
       "1 a 10         -1                                                                          6\n",
       "               Playstation Plus                                                            1\n",
       "1 a 10 DOLAR   -1                                                                          1\n",
       "               Game Pass                                                                   1\n",
       "               Game Pass;Nintendo Switch Online;Playstation Plus                           1\n",
       "               Playstation Plus                                                            1\n",
       "10 a 30        -1                                                                         24\n",
       "               Playstation Plus                                                           11\n",
       "               Game Pass                                                                   6\n",
       "               Assinatura WOW                                                              1\n",
       "               EA Access/Origin Access;Game Pass                                           1\n",
       "               EA Access/Origin Access;Game Pass;Playstation Plus;Ubisoft+                 1\n",
       "               Game Pass;Android play                                                      1\n",
       "               Game Pass;Nintendo Switch Online                                            1\n",
       "               Game Pass;Prime gaming, epic games (não é pago, mas da jogos gratuitos)     1\n",
       "               Nintendo Switch Online                                                      1\n",
       "               Prime gaming                                                                1\n",
       "               Twitch Prime                                                                1\n",
       "10 a 30 DOLAR  -1                                                                          3\n",
       "               Game Pass                                                                   3\n",
       "30 a 50        -1                                                                         10\n",
       "               Playstation Plus                                                            7\n",
       "               Game Pass                                                                   6\n",
       "               EA Access/Origin Access;Game Pass                                           3\n",
       "               EA Access/Origin Access;Game Pass;Nintendo Switch Online;Ubisoft+           1\n",
       "               Game Pass;Playstation Plus                                                  1\n",
       "30 a 50 DOLAR  EA Access/Origin Access;Game Pass                                           1\n",
       "50 a 70        -1                                                                          3\n",
       "               EA Access/Origin Access;Game Pass                                           1\n",
       "               Game Pass                                                                   1\n",
       "70 a 100       Playstation Plus                                                            2\n",
       "               -1                                                                          1\n",
       "Não pagaria    -1                                                                         11\n",
       "               EA Access/Origin Access;Game Pass                                           1\n",
       "               Playstation Plus                                                            1\n",
       "Name: quais, dtype: int64"
      ]
     },
     "execution_count": 85,
     "metadata": {},
     "output_type": "execute_result"
    }
   ],
   "source": [
    "\n",
    "contar=dataGAMER.groupby(['paga']).quais.value_counts()\n",
    "contar.head(len(contar))\n"
   ]
  },
  {
   "cell_type": "code",
   "execution_count": 82,
   "metadata": {},
   "outputs": [
    {
     "data": {
      "text/plain": [
       "'\\nNão pagaria   \\n0assinatura = 11\\n1assinatura = 1\\n2assinatura = 1\\ntotal= 13\\n\\n1 a 10        \\n0assinatura = 6\\n1assinatura = 1\\ntotal= 7\\n\\n10 a 30\\n0assinatura = 24\\n1assinatura = 21\\n2assinatura =  3\\n4assinaruras = 1\\ntotal= 49\\n\\n30 a 50    \\n0assinatura = 10\\n1assinatura = 13\\n2assinatura =  4\\n4assinaruras = 1\\ntotal= 28\\n\\n50 a 70\\n0assinatura = 3\\n1assinatura = 1\\n2assinatura = 1\\n\\n70 a 100 \\n0assinatura = 1\\n1assinatura = 2\\n\\n\\n\\n\\n\\n\\n'"
      ]
     },
     "execution_count": 82,
     "metadata": {},
     "output_type": "execute_result"
    }
   ],
   "source": [
    "#t=contar[categorias3[1]]\n",
    "#c=0\n",
    "#while c < (len(t.index)-1):\n",
    "    #c+=1\n",
    "    #print(len(t.index[cS].split(\";\")))\n",
    "\n",
    "'''\n",
    "Não pagaria   \n",
    "0assinatura = 11 (0.00)->\n",
    "1assinatura = 1  (16.70)->16.70\n",
    "2assinatura = 1  (40.00)->40.00\n",
    "total= 13\n",
    "\n",
    "1 a 10        \n",
    "0assinatura = 6 (0.00)->10.00\n",
    "1assinatura = 1 (16.70)->26.7\n",
    "total= 7\n",
    "\n",
    "10 a 30\n",
    "0assinatura = 24 (0.00)->30.00\n",
    "1assinatura = 21 (20.00)->50.00\n",
    "2assinatura =  3 (38.60)->68.60\n",
    "4assinaruras = 1 (106.70)->136.70\n",
    "total= 49\n",
    "\n",
    "30 a 50    \n",
    "0assinatura = 10 (0.00)->50.00\n",
    "1assinatura = 13 (22.84)->72.84\n",
    "2assinatura =  4 (41.67)->91.67\n",
    "4assinaruras = 1 (98.30)->148.30\n",
    "total= 28\n",
    "\n",
    "50 a 70\n",
    "0assinatura = 3 (0.00)->70.00\n",
    "1assinatura = 1 (30.00)->100.00\n",
    "2assinatura = 1 (40.00)->110.00\n",
    "total= 5\n",
    "\n",
    "70 a 100 \n",
    "0assinatura = 1 (0.00)->100\n",
    "1assinatura = 2 (16.70)->116.70\n",
    "total= 3\n",
    "\n",
    "\n",
    "\n",
    "1 a 10 DOLAR\n",
    "0assinatura = 1\n",
    "1assinatura = 1\n",
    "3assinatura = 1\n",
    "total= 3\n",
    "\n",
    "10 a 30 DOLAR S\n",
    "0assinatura = 3\n",
    "1assinatura = 3\n",
    "total= 6\n",
    "\n",
    "30 a 50 DOLAR\n",
    "2assinatura = 1\n",
    "total= 1\n",
    "\n",
    "\n",
    "'''\n",
    "\n",
    "\n"
   ]
  }
 ],
 "metadata": {
  "interpreter": {
   "hash": "26de051ba29f2982a8de78e945f0abaf191376122a1563185a90213a26c5da77"
  },
  "kernelspec": {
   "display_name": "Python 3.10.4 64-bit",
   "language": "python",
   "name": "python3"
  },
  "language_info": {
   "codemirror_mode": {
    "name": "ipython",
    "version": 3
   },
   "file_extension": ".py",
   "mimetype": "text/x-python",
   "name": "python",
   "nbconvert_exporter": "python",
   "pygments_lexer": "ipython3",
   "version": "3.10.4"
  },
  "orig_nbformat": 4
 },
 "nbformat": 4,
 "nbformat_minor": 2
}
